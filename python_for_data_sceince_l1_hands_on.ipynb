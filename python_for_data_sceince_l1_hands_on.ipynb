{
  "nbformat": 4,
  "nbformat_minor": 0,
  "metadata": {
    "colab": {
      "name": "python_for_data_sceince_l1_hands_on.ipynb",
      "provenance": [],
      "collapsed_sections": []
    },
    "kernelspec": {
      "name": "python3",
      "display_name": "Python 3"
    },
    "language_info": {
      "name": "python"
    }
  },
  "cells": [
    {
      "cell_type": "markdown",
      "metadata": {
        "id": "iYx7VXT-tZzK"
      },
      "source": [
        "Date Preparation and Exploration:\n",
        "\n",
        "1. Reading a Titanic dataset from a CSV file\n",
        "\n",
        "2. Detecting missing values\n",
        "Missing values reduce the representativeness of the sample, and furthermore, might distort inferences about the population. \n",
        "How many missing values are there in  age  Attribute of Titanic dataset  \n",
        "\n",
        "3. Imputing missing values\n",
        "\n",
        "After detecting the number of missing values within each attribute, we have to impute the missing values since they might have a significant effect on the conclusions that can be drawn from the data.\n",
        "\n",
        "Assign the missing value to the most likely port, which is Southampton\n",
        "\n",
        "4. Exploring and visualizing data\n",
        "\n",
        "After imputing the missing values, one should perform an exploratory analysis, which involves using a visualization plot and an aggregation method to summarize the data characteristics. The result helps the user gain a better understanding of the data in use.\n",
        "\n",
        "a) Bar Plot which shows how many passengers survived and how many perished\n",
        "b) Bar Plot which shows how many passesngers travelled by first class, second class and thrid class\n",
        "c) Barplot which shows how many are male passengers and how many are female passengers\n",
        "d) plot histogram of different ages\n",
        "e) Stacked barplot's  to find out \n",
        " -which gender is more likely to perish during shipwrecks\n",
        " -Passenger survival by class\n",
        "f) Box Plot which shows passenger survival by age\n",
        "\n",
        "\n"
      ]
    },
    {
      "cell_type": "code",
      "metadata": {
        "id": "eC_GQmQ6lo4P"
      },
      "source": [
        "import pandas as pd\n",
        "import pandas as pd\n",
        "import numpy as np\n",
        "import seaborn as sns\n",
        "import matplotlib.pyplot as plt\n",
        "%matplotlib inline\n",
        "df = pd.read_csv (r'/content/drive/MyDrive/Titanic data.csv')"
      ],
      "execution_count": null,
      "outputs": []
    },
    {
      "cell_type": "code",
      "metadata": {
        "colab": {
          "base_uri": "https://localhost:8080/"
        },
        "id": "LF4qUXdIBdtd",
        "outputId": "6fb0628f-7f51-4c82-e027-aaf540543276"
      },
      "source": [
        "Count_Null= df['Age'].isnull().sum()\n",
        "print(Count_Null)"
      ],
      "execution_count": null,
      "outputs": [
        {
          "output_type": "stream",
          "text": [
            "177\n"
          ],
          "name": "stdout"
        }
      ]
    },
    {
      "cell_type": "code",
      "metadata": {
        "colab": {
          "base_uri": "https://localhost:8080/"
        },
        "id": "eu5NmhddBgUD",
        "outputId": "61594290-5619-40a8-ce5f-237469dd70da"
      },
      "source": [
        "df['Age'] = df['Age'].fillna(0)\n",
        "\n",
        "df['Age']"
      ],
      "execution_count": null,
      "outputs": [
        {
          "output_type": "execute_result",
          "data": {
            "text/plain": [
              "0      22.0\n",
              "1      38.0\n",
              "2      26.0\n",
              "3      35.0\n",
              "4      35.0\n",
              "       ... \n",
              "886    27.0\n",
              "887    19.0\n",
              "888     0.0\n",
              "889    26.0\n",
              "890    32.0\n",
              "Name: Age, Length: 891, dtype: float64"
            ]
          },
          "metadata": {
            "tags": []
          },
          "execution_count": 22
        }
      ]
    },
    {
      "cell_type": "code",
      "metadata": {
        "colab": {
          "base_uri": "https://localhost:8080/"
        },
        "id": "C5J8KtmZCn-f",
        "outputId": "1317a1d3-c135-4cc3-9740-b9a67092b51c"
      },
      "source": [
        "df.fillna('Southampton', inplace=True)\n",
        "print(df)"
      ],
      "execution_count": null,
      "outputs": [
        {
          "output_type": "stream",
          "text": [
            "     PassengerId  Survived  Pclass  ...     Fare        Cabin  Embarked\n",
            "0              1         0       3  ...   7.2500  Southampton         S\n",
            "1              2         1       1  ...  71.2833          C85         C\n",
            "2              3         1       3  ...   7.9250  Southampton         S\n",
            "3              4         1       1  ...  53.1000         C123         S\n",
            "4              5         0       3  ...   8.0500  Southampton         S\n",
            "..           ...       ...     ...  ...      ...          ...       ...\n",
            "886          887         0       2  ...  13.0000  Southampton         S\n",
            "887          888         1       1  ...  30.0000          B42         S\n",
            "888          889         0       3  ...  23.4500  Southampton         S\n",
            "889          890         1       1  ...  30.0000         C148         C\n",
            "890          891         0       3  ...   7.7500  Southampton         Q\n",
            "\n",
            "[891 rows x 12 columns]\n"
          ],
          "name": "stdout"
        }
      ]
    },
    {
      "cell_type": "code",
      "metadata": {
        "colab": {
          "base_uri": "https://localhost:8080/",
          "height": 297
        },
        "id": "VBlkNiV2RMpg",
        "outputId": "f6e1d354-51bb-45e1-dd5b-db55fd801025"
      },
      "source": [
        "sns.countplot(x='Survived', data=df)"
      ],
      "execution_count": null,
      "outputs": [
        {
          "output_type": "execute_result",
          "data": {
            "text/plain": [
              "<matplotlib.axes._subplots.AxesSubplot at 0x7f54be004e90>"
            ]
          },
          "metadata": {
            "tags": []
          },
          "execution_count": 24
        },
        {
          "output_type": "display_data",
          "data": {
            "image/png": "[encoded data removed]",
            "text/plain": [
              "<Figure size 432x288 with 1 Axes>"
            ]
          },
          "metadata": {
            "tags": [],
            "needs_background": "light"
          }
        }
      ]
    },
    {
      "cell_type": "code",
      "metadata": {
        "colab": {
          "base_uri": "https://localhost:8080/",
          "height": 297
        },
        "id": "D3BsXAlRRTGf",
        "outputId": "ced1271f-c748-45e9-ec5d-0bf4336d1f33"
      },
      "source": [
        "sns.countplot(x='Pclass', data=df)"
      ],
      "execution_count": null,
      "outputs": [
        {
          "output_type": "execute_result",
          "data": {
            "text/plain": [
              "<matplotlib.axes._subplots.AxesSubplot at 0x7f54be09fc50>"
            ]
          },
          "metadata": {
            "tags": []
          },
          "execution_count": 25
        },
        {
          "output_type": "display_data",
          "data": {
            "image/png": "[encoded data removed]",
            "text/plain": [
              "<Figure size 432x288 with 1 Axes>"
            ]
          },
          "metadata": {
            "tags": [],
            "needs_background": "light"
          }
        }
      ]
    },
    {
      "cell_type": "code",
      "metadata": {
        "colab": {
          "base_uri": "https://localhost:8080/",
          "height": 299
        },
        "id": "Or1r7hM7R_3l",
        "outputId": "0d378ab4-3fbc-41f3-8f6c-0d0e3e4309e7"
      },
      "source": [
        "sns.countplot(x='Sex', data=df)"
      ],
      "execution_count": null,
      "outputs": [
        {
          "output_type": "execute_result",
          "data": {
            "text/plain": [
              "<matplotlib.axes._subplots.AxesSubplot at 0x7f54bdf64c90>"
            ]
          },
          "metadata": {
            "tags": []
          },
          "execution_count": 26
        },
        {
          "output_type": "display_data",
          "data": {
            "image/png": "[encoded data removed]",
            "text/plain": [
              "<Figure size 432x288 with 1 Axes>"
            ]
          },
          "metadata": {
            "tags": [],
            "needs_background": "light"
          }
        }
      ]
    },
    {
      "cell_type": "code",
      "metadata": {
        "colab": {
          "base_uri": "https://localhost:8080/",
          "height": 351
        },
        "id": "4gRJzsdyVeeu",
        "outputId": "f0d50d8a-0c96-42af-e8ac-49d83bdaf072"
      },
      "source": [
        "sns.distplot(df.Age, kde=False)"
      ],
      "execution_count": null,
      "outputs": [
        {
          "output_type": "stream",
          "text": [
            "/usr/local/lib/python3.7/dist-packages/seaborn/distributions.py:2557: FutureWarning: `distplot` is a deprecated function and will be removed in a future version. Please adapt your code to use either `displot` (a figure-level function with similar flexibility) or `histplot` (an axes-level function for histograms).\n",
            "  warnings.warn(msg, FutureWarning)\n"
          ],
          "name": "stderr"
        },
        {
          "output_type": "execute_result",
          "data": {
            "text/plain": [
              "<matplotlib.axes._subplots.AxesSubplot at 0x7f54bdec0a10>"
            ]
          },
          "metadata": {
            "tags": []
          },
          "execution_count": 28
        },
        {
          "output_type": "display_data",
          "data": {
            "image/png": "[encoded data removed]",
            "text/plain": [
              "<Figure size 432x288 with 1 Axes>"
            ]
          },
          "metadata": {
            "tags": [],
            "needs_background": "light"
          }
        }
      ]
    },
    {
      "cell_type": "code",
      "metadata": {
        "colab": {
          "base_uri": "https://localhost:8080/",
          "height": 323
        },
        "id": "pnol6_WZaHrw",
        "outputId": "3c9790fd-20ed-4f26-e7ca-6da3615ab2d9"
      },
      "source": [
        "df.groupby(['Sex', 'Survived']).size().unstack().plot(kind='bar', stacked=True)"
      ],
      "execution_count": null,
      "outputs": [
        {
          "output_type": "execute_result",
          "data": {
            "text/plain": [
              "<matplotlib.axes._subplots.AxesSubplot at 0x7f54bde60f90>"
            ]
          },
          "metadata": {
            "tags": []
          },
          "execution_count": 29
        },
        {
          "output_type": "display_data",
          "data": {
            "image/png": "[encoded data removed]",
            "text/plain": [
              "<Figure size 432x288 with 1 Axes>"
            ]
          },
          "metadata": {
            "tags": [],
            "needs_background": "light"
          }
        }
      ]
    },
    {
      "cell_type": "code",
      "metadata": {
        "colab": {
          "base_uri": "https://localhost:8080/",
          "height": 293
        },
        "id": "uzqvzRo4aUMS",
        "outputId": "de244aeb-e3ca-4e88-bca4-bb0bcae0fa65"
      },
      "source": [
        "df.groupby(['Pclass', 'Survived']).size().unstack().plot(kind='bar', stacked=True)"
      ],
      "execution_count": null,
      "outputs": [
        {
          "output_type": "execute_result",
          "data": {
            "text/plain": [
              "<matplotlib.axes._subplots.AxesSubplot at 0x7f54bdd92550>"
            ]
          },
          "metadata": {
            "tags": []
          },
          "execution_count": 30
        },
        {
          "output_type": "display_data",
          "data": {
            "image/png": "[encoded data removed]",
            "text/plain": [
              "<Figure size 432x288 with 1 Axes>"
            ]
          },
          "metadata": {
            "tags": [],
            "needs_background": "light"
          }
        }
      ]
    },
    {
      "cell_type": "code",
      "metadata": {
        "colab": {
          "base_uri": "https://localhost:8080/",
          "height": 279
        },
        "id": "fr1o1GGAaaix",
        "outputId": "9304635f-fe4c-4f26-ac33-886ac9114191"
      },
      "source": [
        "boxplt = sns.boxplot(x=\"Survived\", y=\"Age\", data=df)"
      ],
      "execution_count": null,
      "outputs": [
        {
          "output_type": "display_data",
          "data": {
            "image/png": "[encoded data removed]",
            "text/plain": [
              "<Figure size 432x288 with 1 Axes>"
            ]
          },
          "metadata": {
            "tags": [],
            "needs_background": "light"
          }
        }
      ]
    },
    {
      "cell_type": "code",
      "metadata": {
        "colab": {
          "base_uri": "https://localhost:8080/",
          "height": 601
        },
        "id": "Xl-uUyRsalVx",
        "outputId": "831bb92a-dacf-4bf8-83e1-b202c94c2f8b"
      },
      "source": [
        "import pandas as pd\n",
        "superstore = pd.read_excel('/content/drive/MyDrive/sample_-_superstore_2 (2).xls')\n",
        "x=superstore.groupby('Sub-Category')['Profit'].agg(['sum'])\n",
        "x"
      ],
      "execution_count": null,
      "outputs": [
        {
          "output_type": "execute_result",
          "data": {
            "text/html": [
              "<div>\n",
              "<style scoped>\n",
              "    .dataframe tbody tr th:only-of-type {\n",
              "        vertical-align: middle;\n",
              "    }\n",
              "\n",
              "    .dataframe tbody tr th {\n",
              "        vertical-align: top;\n",
              "    }\n",
              "\n",
              "    .dataframe thead th {\n",
              "        text-align: right;\n",
              "    }\n",
              "</style>\n",
              "<table border=\"1\" class=\"dataframe\">\n",
              "  <thead>\n",
              "    <tr style=\"text-align: right;\">\n",
              "      <th></th>\n",
              "      <th>sum</th>\n",
              "    </tr>\n",
              "    <tr>\n",
              "      <th>Sub-Category</th>\n",
              "      <th></th>\n",
              "    </tr>\n",
              "  </thead>\n",
              "  <tbody>\n",
              "    <tr>\n",
              "      <th>Accessories</th>\n",
              "      <td>41936.6357</td>\n",
              "    </tr>\n",
              "    <tr>\n",
              "      <th>Appliances</th>\n",
              "      <td>18138.0054</td>\n",
              "    </tr>\n",
              "    <tr>\n",
              "      <th>Art</th>\n",
              "      <td>6527.7870</td>\n",
              "    </tr>\n",
              "    <tr>\n",
              "      <th>Binders</th>\n",
              "      <td>30221.7633</td>\n",
              "    </tr>\n",
              "    <tr>\n",
              "      <th>Bookcases</th>\n",
              "      <td>-3472.5560</td>\n",
              "    </tr>\n",
              "    <tr>\n",
              "      <th>Chairs</th>\n",
              "      <td>26590.1663</td>\n",
              "    </tr>\n",
              "    <tr>\n",
              "      <th>Copiers</th>\n",
              "      <td>55617.8249</td>\n",
              "    </tr>\n",
              "    <tr>\n",
              "      <th>Envelopes</th>\n",
              "      <td>6964.1767</td>\n",
              "    </tr>\n",
              "    <tr>\n",
              "      <th>Fasteners</th>\n",
              "      <td>949.5182</td>\n",
              "    </tr>\n",
              "    <tr>\n",
              "      <th>Furnishings</th>\n",
              "      <td>13059.1436</td>\n",
              "    </tr>\n",
              "    <tr>\n",
              "      <th>Labels</th>\n",
              "      <td>5546.2540</td>\n",
              "    </tr>\n",
              "    <tr>\n",
              "      <th>Machines</th>\n",
              "      <td>3384.7569</td>\n",
              "    </tr>\n",
              "    <tr>\n",
              "      <th>Paper</th>\n",
              "      <td>34053.5693</td>\n",
              "    </tr>\n",
              "    <tr>\n",
              "      <th>Phones</th>\n",
              "      <td>44515.7306</td>\n",
              "    </tr>\n",
              "    <tr>\n",
              "      <th>Storage</th>\n",
              "      <td>21278.8264</td>\n",
              "    </tr>\n",
              "    <tr>\n",
              "      <th>Supplies</th>\n",
              "      <td>-1189.0995</td>\n",
              "    </tr>\n",
              "    <tr>\n",
              "      <th>Tables</th>\n",
              "      <td>-17725.4811</td>\n",
              "    </tr>\n",
              "  </tbody>\n",
              "</table>\n",
              "</div>"
            ],
            "text/plain": [
              "                     sum\n",
              "Sub-Category            \n",
              "Accessories   41936.6357\n",
              "Appliances    18138.0054\n",
              "Art            6527.7870\n",
              "Binders       30221.7633\n",
              "Bookcases     -3472.5560\n",
              "Chairs        26590.1663\n",
              "Copiers       55617.8249\n",
              "Envelopes      6964.1767\n",
              "Fasteners       949.5182\n",
              "Furnishings   13059.1436\n",
              "Labels         5546.2540\n",
              "Machines       3384.7569\n",
              "Paper         34053.5693\n",
              "Phones        44515.7306\n",
              "Storage       21278.8264\n",
              "Supplies      -1189.0995\n",
              "Tables       -17725.4811"
            ]
          },
          "metadata": {
            "tags": []
          },
          "execution_count": 10
        }
      ]
    },
    {
      "cell_type": "code",
      "metadata": {
        "colab": {
          "base_uri": "https://localhost:8080/",
          "height": 1000
        },
        "id": "A7flrgQcm0eT",
        "outputId": "6c50835e-825c-430b-cfb7-32d34de1649b"
      },
      "source": [
        "superstore= superstore[(superstore['Category']!= 'Furniture') & (superstore['Segment']!= 'Home Office')]\n",
        "superstore"
      ],
      "execution_count": null,
      "outputs": [
        {
          "output_type": "execute_result",
          "data": {
            "text/html": [
              "<div>\n",
              "<style scoped>\n",
              "    .dataframe tbody tr th:only-of-type {\n",
              "        vertical-align: middle;\n",
              "    }\n",
              "\n",
              "    .dataframe tbody tr th {\n",
              "        vertical-align: top;\n",
              "    }\n",
              "\n",
              "    .dataframe thead th {\n",
              "        text-align: right;\n",
              "    }\n",
              "</style>\n",
              "<table border=\"1\" class=\"dataframe\">\n",
              "  <thead>\n",
              "    <tr style=\"text-align: right;\">\n",
              "      <th></th>\n",
              "      <th>Row ID</th>\n",
              "      <th>Order ID</th>\n",
              "      <th>Order Date</th>\n",
              "      <th>Ship Date</th>\n",
              "      <th>Ship Mode</th>\n",
              "      <th>Customer ID</th>\n",
              "      <th>Customer Name</th>\n",
              "      <th>Segment</th>\n",
              "      <th>Country</th>\n",
              "      <th>City</th>\n",
              "      <th>State</th>\n",
              "      <th>Postal Code</th>\n",
              "      <th>Region</th>\n",
              "      <th>Product ID</th>\n",
              "      <th>Category</th>\n",
              "      <th>Sub-Category</th>\n",
              "      <th>Product Name</th>\n",
              "      <th>Sales</th>\n",
              "      <th>Quantity</th>\n",
              "      <th>Discount</th>\n",
              "      <th>Profit</th>\n",
              "    </tr>\n",
              "  </thead>\n",
              "  <tbody>\n",
              "    <tr>\n",
              "      <th>2</th>\n",
              "      <td>3</td>\n",
              "      <td>CA-2016-138688</td>\n",
              "      <td>2016-06-12</td>\n",
              "      <td>2016-06-16</td>\n",
              "      <td>Second Class</td>\n",
              "      <td>DV-13045</td>\n",
              "      <td>Darrin Van Huff</td>\n",
              "      <td>Corporate</td>\n",
              "      <td>United States</td>\n",
              "      <td>Los Angeles</td>\n",
              "      <td>California</td>\n",
              "      <td>90036</td>\n",
              "      <td>West</td>\n",
              "      <td>OFF-LA-10000240</td>\n",
              "      <td>Office Supplies</td>\n",
              "      <td>Labels</td>\n",
              "      <td>Self-Adhesive Address Labels for Typewriters b...</td>\n",
              "      <td>14.620</td>\n",
              "      <td>2</td>\n",
              "      <td>0.0</td>\n",
              "      <td>6.8714</td>\n",
              "    </tr>\n",
              "    <tr>\n",
              "      <th>4</th>\n",
              "      <td>5</td>\n",
              "      <td>US-2015-108966</td>\n",
              "      <td>2015-10-11</td>\n",
              "      <td>2015-10-18</td>\n",
              "      <td>Standard Class</td>\n",
              "      <td>SO-20335</td>\n",
              "      <td>Sean O'Donnell</td>\n",
              "      <td>Consumer</td>\n",
              "      <td>United States</td>\n",
              "      <td>Fort Lauderdale</td>\n",
              "      <td>Florida</td>\n",
              "      <td>33311</td>\n",
              "      <td>South</td>\n",
              "      <td>OFF-ST-10000760</td>\n",
              "      <td>Office Supplies</td>\n",
              "      <td>Storage</td>\n",
              "      <td>Eldon Fold 'N Roll Cart System</td>\n",
              "      <td>22.368</td>\n",
              "      <td>2</td>\n",
              "      <td>0.2</td>\n",
              "      <td>2.5164</td>\n",
              "    </tr>\n",
              "    <tr>\n",
              "      <th>6</th>\n",
              "      <td>7</td>\n",
              "      <td>CA-2014-115812</td>\n",
              "      <td>2014-06-09</td>\n",
              "      <td>2014-06-14</td>\n",
              "      <td>Standard Class</td>\n",
              "      <td>BH-11710</td>\n",
              "      <td>Brosina Hoffman</td>\n",
              "      <td>Consumer</td>\n",
              "      <td>United States</td>\n",
              "      <td>Los Angeles</td>\n",
              "      <td>California</td>\n",
              "      <td>90032</td>\n",
              "      <td>West</td>\n",
              "      <td>OFF-AR-10002833</td>\n",
              "      <td>Office Supplies</td>\n",
              "      <td>Art</td>\n",
              "      <td>Newell 322</td>\n",
              "      <td>7.280</td>\n",
              "      <td>4</td>\n",
              "      <td>0.0</td>\n",
              "      <td>1.9656</td>\n",
              "    </tr>\n",
              "    <tr>\n",
              "      <th>7</th>\n",
              "      <td>8</td>\n",
              "      <td>CA-2014-115812</td>\n",
              "      <td>2014-06-09</td>\n",
              "      <td>2014-06-14</td>\n",
              "      <td>Standard Class</td>\n",
              "      <td>BH-11710</td>\n",
              "      <td>Brosina Hoffman</td>\n",
              "      <td>Consumer</td>\n",
              "      <td>United States</td>\n",
              "      <td>Los Angeles</td>\n",
              "      <td>California</td>\n",
              "      <td>90032</td>\n",
              "      <td>West</td>\n",
              "      <td>TEC-PH-10002275</td>\n",
              "      <td>Technology</td>\n",
              "      <td>Phones</td>\n",
              "      <td>Mitel 5320 IP Phone VoIP phone</td>\n",
              "      <td>907.152</td>\n",
              "      <td>6</td>\n",
              "      <td>0.2</td>\n",
              "      <td>90.7152</td>\n",
              "    </tr>\n",
              "    <tr>\n",
              "      <th>8</th>\n",
              "      <td>9</td>\n",
              "      <td>CA-2014-115812</td>\n",
              "      <td>2014-06-09</td>\n",
              "      <td>2014-06-14</td>\n",
              "      <td>Standard Class</td>\n",
              "      <td>BH-11710</td>\n",
              "      <td>Brosina Hoffman</td>\n",
              "      <td>Consumer</td>\n",
              "      <td>United States</td>\n",
              "      <td>Los Angeles</td>\n",
              "      <td>California</td>\n",
              "      <td>90032</td>\n",
              "      <td>West</td>\n",
              "      <td>OFF-BI-10003910</td>\n",
              "      <td>Office Supplies</td>\n",
              "      <td>Binders</td>\n",
              "      <td>DXL Angle-View Binders with Locking Rings by S...</td>\n",
              "      <td>18.504</td>\n",
              "      <td>3</td>\n",
              "      <td>0.2</td>\n",
              "      <td>5.7825</td>\n",
              "    </tr>\n",
              "    <tr>\n",
              "      <th>...</th>\n",
              "      <td>...</td>\n",
              "      <td>...</td>\n",
              "      <td>...</td>\n",
              "      <td>...</td>\n",
              "      <td>...</td>\n",
              "      <td>...</td>\n",
              "      <td>...</td>\n",
              "      <td>...</td>\n",
              "      <td>...</td>\n",
              "      <td>...</td>\n",
              "      <td>...</td>\n",
              "      <td>...</td>\n",
              "      <td>...</td>\n",
              "      <td>...</td>\n",
              "      <td>...</td>\n",
              "      <td>...</td>\n",
              "      <td>...</td>\n",
              "      <td>...</td>\n",
              "      <td>...</td>\n",
              "      <td>...</td>\n",
              "      <td>...</td>\n",
              "    </tr>\n",
              "    <tr>\n",
              "      <th>9987</th>\n",
              "      <td>9988</td>\n",
              "      <td>CA-2017-163629</td>\n",
              "      <td>2017-11-17</td>\n",
              "      <td>2017-11-21</td>\n",
              "      <td>Standard Class</td>\n",
              "      <td>RA-19885</td>\n",
              "      <td>Ruben Ausman</td>\n",
              "      <td>Corporate</td>\n",
              "      <td>United States</td>\n",
              "      <td>Athens</td>\n",
              "      <td>Georgia</td>\n",
              "      <td>30605</td>\n",
              "      <td>South</td>\n",
              "      <td>TEC-AC-10001539</td>\n",
              "      <td>Technology</td>\n",
              "      <td>Accessories</td>\n",
              "      <td>Logitech G430 Surround Sound Gaming Headset wi...</td>\n",
              "      <td>79.990</td>\n",
              "      <td>1</td>\n",
              "      <td>0.0</td>\n",
              "      <td>28.7964</td>\n",
              "    </tr>\n",
              "    <tr>\n",
              "      <th>9988</th>\n",
              "      <td>9989</td>\n",
              "      <td>CA-2017-163629</td>\n",
              "      <td>2017-11-17</td>\n",
              "      <td>2017-11-21</td>\n",
              "      <td>Standard Class</td>\n",
              "      <td>RA-19885</td>\n",
              "      <td>Ruben Ausman</td>\n",
              "      <td>Corporate</td>\n",
              "      <td>United States</td>\n",
              "      <td>Athens</td>\n",
              "      <td>Georgia</td>\n",
              "      <td>30605</td>\n",
              "      <td>South</td>\n",
              "      <td>TEC-PH-10004006</td>\n",
              "      <td>Technology</td>\n",
              "      <td>Phones</td>\n",
              "      <td>Panasonic KX - TS880B Telephone</td>\n",
              "      <td>206.100</td>\n",
              "      <td>5</td>\n",
              "      <td>0.0</td>\n",
              "      <td>55.6470</td>\n",
              "    </tr>\n",
              "    <tr>\n",
              "      <th>9991</th>\n",
              "      <td>9992</td>\n",
              "      <td>CA-2017-121258</td>\n",
              "      <td>2017-02-26</td>\n",
              "      <td>2017-03-03</td>\n",
              "      <td>Standard Class</td>\n",
              "      <td>DB-13060</td>\n",
              "      <td>Dave Brooks</td>\n",
              "      <td>Consumer</td>\n",
              "      <td>United States</td>\n",
              "      <td>Costa Mesa</td>\n",
              "      <td>California</td>\n",
              "      <td>92627</td>\n",
              "      <td>West</td>\n",
              "      <td>TEC-PH-10003645</td>\n",
              "      <td>Technology</td>\n",
              "      <td>Phones</td>\n",
              "      <td>Aastra 57i VoIP phone</td>\n",
              "      <td>258.576</td>\n",
              "      <td>2</td>\n",
              "      <td>0.2</td>\n",
              "      <td>19.3932</td>\n",
              "    </tr>\n",
              "    <tr>\n",
              "      <th>9992</th>\n",
              "      <td>9993</td>\n",
              "      <td>CA-2017-121258</td>\n",
              "      <td>2017-02-26</td>\n",
              "      <td>2017-03-03</td>\n",
              "      <td>Standard Class</td>\n",
              "      <td>DB-13060</td>\n",
              "      <td>Dave Brooks</td>\n",
              "      <td>Consumer</td>\n",
              "      <td>United States</td>\n",
              "      <td>Costa Mesa</td>\n",
              "      <td>California</td>\n",
              "      <td>92627</td>\n",
              "      <td>West</td>\n",
              "      <td>OFF-PA-10004041</td>\n",
              "      <td>Office Supplies</td>\n",
              "      <td>Paper</td>\n",
              "      <td>It's Hot Message Books with Stickers, 2 3/4\" x 5\"</td>\n",
              "      <td>29.600</td>\n",
              "      <td>4</td>\n",
              "      <td>0.0</td>\n",
              "      <td>13.3200</td>\n",
              "    </tr>\n",
              "    <tr>\n",
              "      <th>9993</th>\n",
              "      <td>9994</td>\n",
              "      <td>CA-2017-119914</td>\n",
              "      <td>2017-05-04</td>\n",
              "      <td>2017-05-09</td>\n",
              "      <td>Second Class</td>\n",
              "      <td>CC-12220</td>\n",
              "      <td>Chris Cortes</td>\n",
              "      <td>Consumer</td>\n",
              "      <td>United States</td>\n",
              "      <td>Westminster</td>\n",
              "      <td>California</td>\n",
              "      <td>92683</td>\n",
              "      <td>West</td>\n",
              "      <td>OFF-AP-10002684</td>\n",
              "      <td>Office Supplies</td>\n",
              "      <td>Appliances</td>\n",
              "      <td>Acco 7-Outlet Masterpiece Power Center, Wihtou...</td>\n",
              "      <td>243.160</td>\n",
              "      <td>2</td>\n",
              "      <td>0.0</td>\n",
              "      <td>72.9480</td>\n",
              "    </tr>\n",
              "  </tbody>\n",
              "</table>\n",
              "<p>6452 rows × 21 columns</p>\n",
              "</div>"
            ],
            "text/plain": [
              "      Row ID        Order ID Order Date  ... Quantity Discount   Profit\n",
              "2          3  CA-2016-138688 2016-06-12  ...        2      0.0   6.8714\n",
              "4          5  US-2015-108966 2015-10-11  ...        2      0.2   2.5164\n",
              "6          7  CA-2014-115812 2014-06-09  ...        4      0.0   1.9656\n",
              "7          8  CA-2014-115812 2014-06-09  ...        6      0.2  90.7152\n",
              "8          9  CA-2014-115812 2014-06-09  ...        3      0.2   5.7825\n",
              "...      ...             ...        ...  ...      ...      ...      ...\n",
              "9987    9988  CA-2017-163629 2017-11-17  ...        1      0.0  28.7964\n",
              "9988    9989  CA-2017-163629 2017-11-17  ...        5      0.0  55.6470\n",
              "9991    9992  CA-2017-121258 2017-02-26  ...        2      0.2  19.3932\n",
              "9992    9993  CA-2017-121258 2017-02-26  ...        4      0.0  13.3200\n",
              "9993    9994  CA-2017-119914 2017-05-04  ...        2      0.0  72.9480\n",
              "\n",
              "[6452 rows x 21 columns]"
            ]
          },
          "metadata": {
            "tags": []
          },
          "execution_count": 15
        }
      ]
    },
    {
      "cell_type": "code",
      "metadata": {
        "colab": {
          "base_uri": "https://localhost:8080/"
        },
        "id": "Oq1COWJ3m4Mm",
        "outputId": "14d5a644-b5d4-487a-f8f5-dcaaef91819d"
      },
      "source": [
        "superstore.sort_values(by=['Sub-Category'], inplace=True, ascending=False)\n",
        "superstore['Sub-Category']"
      ],
      "execution_count": null,
      "outputs": [
        {
          "output_type": "execute_result",
          "data": {
            "text/plain": [
              "9728       Supplies\n",
              "9076       Supplies\n",
              "5855       Supplies\n",
              "4762       Supplies\n",
              "7184       Supplies\n",
              "           ...     \n",
              "9941    Accessories\n",
              "7222    Accessories\n",
              "47      Accessories\n",
              "7306    Accessories\n",
              "1075    Accessories\n",
              "Name: Sub-Category, Length: 7873, dtype: object"
            ]
          },
          "metadata": {
            "tags": []
          },
          "execution_count": 57
        }
      ]
    },
    {
      "cell_type": "code",
      "metadata": {
        "colab": {
          "base_uri": "https://localhost:8080/",
          "height": 265
        },
        "id": "PfXx-zL6ooIk",
        "outputId": "7d5beea6-43c3-4fd1-a718-137bcaad71f9"
      },
      "source": [
        "import matplotlib.pyplot as plt\n",
        "import seaborn as sns\n",
        "%matplotlib inline\n",
        "import pandas as pd\n",
        "superstore = pd.read_excel('/content/drive/MyDrive/sample_-_superstore_2 (2).xls')\n",
        "x = superstore.groupby('Category')['Profit'].agg(['sum'])\n",
        "x.plot.pie(y='sum',autopct='%1.1f%%')\n",
        "\n"
      ],
      "execution_count": null,
      "outputs": [
        {
          "output_type": "execute_result",
          "data": {
            "text/plain": [
              "<matplotlib.axes._subplots.AxesSubplot at 0x7f3a984b8850>"
            ]
          },
          "metadata": {
            "tags": []
          },
          "execution_count": 26
        },
        {
          "output_type": "display_data",
          "data": {
            "image/png": "[encoded data removed]",
            "text/plain": [
              "<Figure size 432x288 with 1 Axes>"
            ]
          },
          "metadata": {
            "tags": []
          }
        }
      ]
    },
    {
      "cell_type": "code",
      "metadata": {
        "id": "P0d3h2JcKjU7",
        "colab": {
          "base_uri": "https://localhost:8080/",
          "height": 297
        },
        "outputId": "164e0dca-8c57-44df-e677-3f0dd1918965"
      },
      "source": [
        "import matplotlib.pyplot as plt\n",
        "%matplotlib inline\n",
        "superstore['Order year'] = superstore['Order Date'].dt.year\n",
        "x = superstore['Order year']\n",
        "y = superstore.groupby('Order year')['Profit'].agg(['sum']).plot.line()\n",
        "y\n"
      ],
      "execution_count": null,
      "outputs": [
        {
          "output_type": "execute_result",
          "data": {
            "text/plain": [
              "<matplotlib.axes._subplots.AxesSubplot at 0x7f3a93dc2050>"
            ]
          },
          "metadata": {
            "tags": []
          },
          "execution_count": 53
        },
        {
          "output_type": "display_data",
          "data": {
            "image/png": "[encoded data removed]",
            "text/plain": [
              "<Figure size 432x288 with 1 Axes>"
            ]
          },
          "metadata": {
            "tags": [],
            "needs_background": "light"
          }
        }
      ]
    },
    {
      "cell_type": "code",
      "metadata": {
        "colab": {
          "base_uri": "https://localhost:8080/",
          "height": 1000
        },
        "id": "1zvBRvVvheBK",
        "outputId": "a287aa36-8728-4f14-b0b8-3ecb7cf29bbc"
      },
      "source": [
        "Top10Customers = superstore.sort_values(['Profit'],ascending=False).head(10)\n",
        "Top10Customers "
      ],
      "execution_count": null,
      "outputs": [
        {
          "output_type": "execute_result",
          "data": {
            "text/html": [
              "<div>\n",
              "<style scoped>\n",
              "    .dataframe tbody tr th:only-of-type {\n",
              "        vertical-align: middle;\n",
              "    }\n",
              "\n",
              "    .dataframe tbody tr th {\n",
              "        vertical-align: top;\n",
              "    }\n",
              "\n",
              "    .dataframe thead th {\n",
              "        text-align: right;\n",
              "    }\n",
              "</style>\n",
              "<table border=\"1\" class=\"dataframe\">\n",
              "  <thead>\n",
              "    <tr style=\"text-align: right;\">\n",
              "      <th></th>\n",
              "      <th>Row ID</th>\n",
              "      <th>Order ID</th>\n",
              "      <th>Order Date</th>\n",
              "      <th>Ship Date</th>\n",
              "      <th>Ship Mode</th>\n",
              "      <th>Customer ID</th>\n",
              "      <th>Customer Name</th>\n",
              "      <th>Segment</th>\n",
              "      <th>Country</th>\n",
              "      <th>City</th>\n",
              "      <th>State</th>\n",
              "      <th>Postal Code</th>\n",
              "      <th>Region</th>\n",
              "      <th>Product ID</th>\n",
              "      <th>Category</th>\n",
              "      <th>Sub-Category</th>\n",
              "      <th>Product Name</th>\n",
              "      <th>Sales</th>\n",
              "      <th>Quantity</th>\n",
              "      <th>Discount</th>\n",
              "      <th>Profit</th>\n",
              "      <th>Order year</th>\n",
              "    </tr>\n",
              "  </thead>\n",
              "  <tbody>\n",
              "    <tr>\n",
              "      <th>6826</th>\n",
              "      <td>6827</td>\n",
              "      <td>CA-2016-118689</td>\n",
              "      <td>2016-10-02</td>\n",
              "      <td>2016-10-09</td>\n",
              "      <td>Standard Class</td>\n",
              "      <td>TC-20980</td>\n",
              "      <td>Tamara Chand</td>\n",
              "      <td>Corporate</td>\n",
              "      <td>United States</td>\n",
              "      <td>Lafayette</td>\n",
              "      <td>Indiana</td>\n",
              "      <td>47905</td>\n",
              "      <td>Central</td>\n",
              "      <td>TEC-CO-10004722</td>\n",
              "      <td>Technology</td>\n",
              "      <td>Copiers</td>\n",
              "      <td>Canon imageCLASS 2200 Advanced Copier</td>\n",
              "      <td>17499.950</td>\n",
              "      <td>5</td>\n",
              "      <td>0.0</td>\n",
              "      <td>8399.9760</td>\n",
              "      <td>2016</td>\n",
              "    </tr>\n",
              "    <tr>\n",
              "      <th>8153</th>\n",
              "      <td>8154</td>\n",
              "      <td>CA-2017-140151</td>\n",
              "      <td>2017-03-23</td>\n",
              "      <td>2017-03-25</td>\n",
              "      <td>First Class</td>\n",
              "      <td>RB-19360</td>\n",
              "      <td>Raymond Buch</td>\n",
              "      <td>Consumer</td>\n",
              "      <td>United States</td>\n",
              "      <td>Seattle</td>\n",
              "      <td>Washington</td>\n",
              "      <td>98115</td>\n",
              "      <td>West</td>\n",
              "      <td>TEC-CO-10004722</td>\n",
              "      <td>Technology</td>\n",
              "      <td>Copiers</td>\n",
              "      <td>Canon imageCLASS 2200 Advanced Copier</td>\n",
              "      <td>13999.960</td>\n",
              "      <td>4</td>\n",
              "      <td>0.0</td>\n",
              "      <td>6719.9808</td>\n",
              "      <td>2017</td>\n",
              "    </tr>\n",
              "    <tr>\n",
              "      <th>4190</th>\n",
              "      <td>4191</td>\n",
              "      <td>CA-2017-166709</td>\n",
              "      <td>2017-11-17</td>\n",
              "      <td>2017-11-22</td>\n",
              "      <td>Standard Class</td>\n",
              "      <td>HL-15040</td>\n",
              "      <td>Hunter Lopez</td>\n",
              "      <td>Consumer</td>\n",
              "      <td>United States</td>\n",
              "      <td>Newark</td>\n",
              "      <td>Delaware</td>\n",
              "      <td>19711</td>\n",
              "      <td>East</td>\n",
              "      <td>TEC-CO-10004722</td>\n",
              "      <td>Technology</td>\n",
              "      <td>Copiers</td>\n",
              "      <td>Canon imageCLASS 2200 Advanced Copier</td>\n",
              "      <td>10499.970</td>\n",
              "      <td>3</td>\n",
              "      <td>0.0</td>\n",
              "      <td>5039.9856</td>\n",
              "      <td>2017</td>\n",
              "    </tr>\n",
              "    <tr>\n",
              "      <th>9039</th>\n",
              "      <td>9040</td>\n",
              "      <td>CA-2016-117121</td>\n",
              "      <td>2016-12-17</td>\n",
              "      <td>2016-12-21</td>\n",
              "      <td>Standard Class</td>\n",
              "      <td>AB-10105</td>\n",
              "      <td>Adrian Barton</td>\n",
              "      <td>Consumer</td>\n",
              "      <td>United States</td>\n",
              "      <td>Detroit</td>\n",
              "      <td>Michigan</td>\n",
              "      <td>48205</td>\n",
              "      <td>Central</td>\n",
              "      <td>OFF-BI-10000545</td>\n",
              "      <td>Office Supplies</td>\n",
              "      <td>Binders</td>\n",
              "      <td>GBC Ibimaster 500 Manual ProClick Binding System</td>\n",
              "      <td>9892.740</td>\n",
              "      <td>13</td>\n",
              "      <td>0.0</td>\n",
              "      <td>4946.3700</td>\n",
              "      <td>2016</td>\n",
              "    </tr>\n",
              "    <tr>\n",
              "      <th>4098</th>\n",
              "      <td>4099</td>\n",
              "      <td>CA-2014-116904</td>\n",
              "      <td>2014-09-23</td>\n",
              "      <td>2014-09-28</td>\n",
              "      <td>Standard Class</td>\n",
              "      <td>SC-20095</td>\n",
              "      <td>Sanjit Chand</td>\n",
              "      <td>Consumer</td>\n",
              "      <td>United States</td>\n",
              "      <td>Minneapolis</td>\n",
              "      <td>Minnesota</td>\n",
              "      <td>55407</td>\n",
              "      <td>Central</td>\n",
              "      <td>OFF-BI-10001120</td>\n",
              "      <td>Office Supplies</td>\n",
              "      <td>Binders</td>\n",
              "      <td>Ibico EPK-21 Electric Binding System</td>\n",
              "      <td>9449.950</td>\n",
              "      <td>5</td>\n",
              "      <td>0.0</td>\n",
              "      <td>4630.4755</td>\n",
              "      <td>2014</td>\n",
              "    </tr>\n",
              "    <tr>\n",
              "      <th>2623</th>\n",
              "      <td>2624</td>\n",
              "      <td>CA-2017-127180</td>\n",
              "      <td>2017-10-22</td>\n",
              "      <td>2017-10-24</td>\n",
              "      <td>First Class</td>\n",
              "      <td>TA-21385</td>\n",
              "      <td>Tom Ashbrook</td>\n",
              "      <td>Home Office</td>\n",
              "      <td>United States</td>\n",
              "      <td>New York City</td>\n",
              "      <td>New York</td>\n",
              "      <td>10024</td>\n",
              "      <td>East</td>\n",
              "      <td>TEC-CO-10004722</td>\n",
              "      <td>Technology</td>\n",
              "      <td>Copiers</td>\n",
              "      <td>Canon imageCLASS 2200 Advanced Copier</td>\n",
              "      <td>11199.968</td>\n",
              "      <td>4</td>\n",
              "      <td>0.2</td>\n",
              "      <td>3919.9888</td>\n",
              "      <td>2017</td>\n",
              "    </tr>\n",
              "    <tr>\n",
              "      <th>509</th>\n",
              "      <td>510</td>\n",
              "      <td>CA-2015-145352</td>\n",
              "      <td>2015-03-16</td>\n",
              "      <td>2015-03-22</td>\n",
              "      <td>Standard Class</td>\n",
              "      <td>CM-12385</td>\n",
              "      <td>Christopher Martinez</td>\n",
              "      <td>Consumer</td>\n",
              "      <td>United States</td>\n",
              "      <td>Atlanta</td>\n",
              "      <td>Georgia</td>\n",
              "      <td>30318</td>\n",
              "      <td>South</td>\n",
              "      <td>OFF-BI-10003527</td>\n",
              "      <td>Office Supplies</td>\n",
              "      <td>Binders</td>\n",
              "      <td>Fellowes PB500 Electric Punch Plastic Comb Bin...</td>\n",
              "      <td>6354.950</td>\n",
              "      <td>5</td>\n",
              "      <td>0.0</td>\n",
              "      <td>3177.4750</td>\n",
              "      <td>2015</td>\n",
              "    </tr>\n",
              "    <tr>\n",
              "      <th>8488</th>\n",
              "      <td>8489</td>\n",
              "      <td>CA-2016-158841</td>\n",
              "      <td>2016-02-02</td>\n",
              "      <td>2016-02-04</td>\n",
              "      <td>Second Class</td>\n",
              "      <td>SE-20110</td>\n",
              "      <td>Sanjit Engle</td>\n",
              "      <td>Consumer</td>\n",
              "      <td>United States</td>\n",
              "      <td>Arlington</td>\n",
              "      <td>Virginia</td>\n",
              "      <td>22204</td>\n",
              "      <td>South</td>\n",
              "      <td>TEC-MA-10001127</td>\n",
              "      <td>Technology</td>\n",
              "      <td>Machines</td>\n",
              "      <td>HP Designjet T520 Inkjet Large Format Printer ...</td>\n",
              "      <td>8749.950</td>\n",
              "      <td>5</td>\n",
              "      <td>0.0</td>\n",
              "      <td>2799.9840</td>\n",
              "      <td>2016</td>\n",
              "    </tr>\n",
              "    <tr>\n",
              "      <th>7666</th>\n",
              "      <td>7667</td>\n",
              "      <td>US-2016-140158</td>\n",
              "      <td>2016-10-04</td>\n",
              "      <td>2016-10-08</td>\n",
              "      <td>Standard Class</td>\n",
              "      <td>DR-12940</td>\n",
              "      <td>Daniel Raglin</td>\n",
              "      <td>Home Office</td>\n",
              "      <td>United States</td>\n",
              "      <td>Providence</td>\n",
              "      <td>Rhode Island</td>\n",
              "      <td>2908</td>\n",
              "      <td>East</td>\n",
              "      <td>TEC-CO-10001449</td>\n",
              "      <td>Technology</td>\n",
              "      <td>Copiers</td>\n",
              "      <td>Hewlett Packard LaserJet 3310 Copier</td>\n",
              "      <td>5399.910</td>\n",
              "      <td>9</td>\n",
              "      <td>0.0</td>\n",
              "      <td>2591.9568</td>\n",
              "      <td>2016</td>\n",
              "    </tr>\n",
              "    <tr>\n",
              "      <th>6520</th>\n",
              "      <td>6521</td>\n",
              "      <td>CA-2017-138289</td>\n",
              "      <td>2017-01-16</td>\n",
              "      <td>2017-01-18</td>\n",
              "      <td>Second Class</td>\n",
              "      <td>AR-10540</td>\n",
              "      <td>Andy Reiter</td>\n",
              "      <td>Consumer</td>\n",
              "      <td>United States</td>\n",
              "      <td>Jackson</td>\n",
              "      <td>Michigan</td>\n",
              "      <td>49201</td>\n",
              "      <td>Central</td>\n",
              "      <td>OFF-BI-10004995</td>\n",
              "      <td>Office Supplies</td>\n",
              "      <td>Binders</td>\n",
              "      <td>GBC DocuBind P400 Electric Binding System</td>\n",
              "      <td>5443.960</td>\n",
              "      <td>4</td>\n",
              "      <td>0.0</td>\n",
              "      <td>2504.2216</td>\n",
              "      <td>2017</td>\n",
              "    </tr>\n",
              "  </tbody>\n",
              "</table>\n",
              "</div>"
            ],
            "text/plain": [
              "      Row ID        Order ID Order Date  ... Discount     Profit Order year\n",
              "6826    6827  CA-2016-118689 2016-10-02  ...      0.0  8399.9760       2016\n",
              "8153    8154  CA-2017-140151 2017-03-23  ...      0.0  6719.9808       2017\n",
              "4190    4191  CA-2017-166709 2017-11-17  ...      0.0  5039.9856       2017\n",
              "9039    9040  CA-2016-117121 2016-12-17  ...      0.0  4946.3700       2016\n",
              "4098    4099  CA-2014-116904 2014-09-23  ...      0.0  4630.4755       2014\n",
              "2623    2624  CA-2017-127180 2017-10-22  ...      0.2  3919.9888       2017\n",
              "509      510  CA-2015-145352 2015-03-16  ...      0.0  3177.4750       2015\n",
              "8488    8489  CA-2016-158841 2016-02-02  ...      0.0  2799.9840       2016\n",
              "7666    7667  US-2016-140158 2016-10-04  ...      0.0  2591.9568       2016\n",
              "6520    6521  CA-2017-138289 2017-01-16  ...      0.0  2504.2216       2017\n",
              "\n",
              "[10 rows x 22 columns]"
            ]
          },
          "metadata": {
            "tags": []
          },
          "execution_count": 54
        }
      ]
    },
    {
      "cell_type": "code",
      "metadata": {
        "colab": {
          "base_uri": "https://localhost:8080/",
          "height": 281
        },
        "id": "zLJ_5yOSiTA5",
        "outputId": "b3e71971-cb92-4b65-8689-37775c34d5f6"
      },
      "source": [
        "import matplotlib.pyplot as plt\n",
        "x = superstore['Profit']\n",
        "y = superstore['Sales']\n",
        "plt.title('Profit vs Sales' )\n",
        "plt.scatter(x, y)\n",
        "plt.show()\n"
      ],
      "execution_count": null,
      "outputs": [
        {
          "output_type": "display_data",
          "data": {
            "image/png": "[encoded data removed]",
            "text/plain": [
              "<Figure size 432x288 with 1 Axes>"
            ]
          },
          "metadata": {
            "tags": [],
            "needs_background": "light"
          }
        }
      ]
    },
    {
      "cell_type": "markdown",
      "metadata": {
        "id": "LKznCMXZz1vT"
      },
      "source": [
        "Visualization:\n",
        "\n",
        "5. Read from sample superstore xl file  into pandas dataframe and perform below operations\n",
        "\n",
        "a) Display Subcategory wise sum of profit\n",
        "b) Exclude Office Furniture SubCategory\n",
        "c) Sort SubCategory in Desc order\n",
        "d) Categorywise sum of profit in pie chart\n",
        "e) Line Chart yearwise sum of profit\n",
        "f) Display Top 10 most profitable customers\n",
        "g) scatter plot between profit and sales\n",
        "\n",
        "\n",
        "6. Create dept dataframe and emp dataframe  with suitable data and perform inner , leftouter,RightOuter and FullOuter Joins based on common column Deptno.\n",
        "\n",
        "Dept Data Frame will have\n",
        "Deptno\n",
        "Dname\n",
        "Loc\n",
        "\n",
        "Emp DataFrame will have below columns\n",
        "Deptno\n",
        "Eno\n",
        "Sal\n"
      ]
    },
    {
      "cell_type": "code",
      "metadata": {
        "colab": {
          "base_uri": "https://localhost:8080/",
          "height": 171
        },
        "id": "eIM7DZLOi-L7",
        "outputId": "437fc886-9a4c-45d0-91b5-3c6d09ebc1cc"
      },
      "source": [
        "import pandas as pd\n",
        "dept = pd.DataFrame({\n",
        "    'Deptno':[101,102,103,104],\n",
        "    'Dept_name':['Accounts','Human Resource','IT','Security'],\n",
        "    'Loc':['Pune','Bengalore','Hyderabad','Kochi']})\n",
        "emp = pd.DataFrame({\n",
        "    'Deptno':[101,102,103,104],\n",
        "    'Eno':[1,2,3,4],\n",
        "    'Sal':[10000,20000,40000,34000]})\n",
        "\n",
        "#Inner Join\n",
        "Inner = pd.merge(dept,emp,on='Deptno',how='inner')\n",
        "Inner\n"
      ],
      "execution_count": null,
      "outputs": [
        {
          "output_type": "execute_result",
          "data": {
            "text/html": [
              "<div>\n",
              "<style scoped>\n",
              "    .dataframe tbody tr th:only-of-type {\n",
              "        vertical-align: middle;\n",
              "    }\n",
              "\n",
              "    .dataframe tbody tr th {\n",
              "        vertical-align: top;\n",
              "    }\n",
              "\n",
              "    .dataframe thead th {\n",
              "        text-align: right;\n",
              "    }\n",
              "</style>\n",
              "<table border=\"1\" class=\"dataframe\">\n",
              "  <thead>\n",
              "    <tr style=\"text-align: right;\">\n",
              "      <th></th>\n",
              "      <th>Deptno</th>\n",
              "      <th>Dept_name</th>\n",
              "      <th>Loc</th>\n",
              "      <th>Eno</th>\n",
              "      <th>Sal</th>\n",
              "    </tr>\n",
              "  </thead>\n",
              "  <tbody>\n",
              "    <tr>\n",
              "      <th>0</th>\n",
              "      <td>101</td>\n",
              "      <td>Accounts</td>\n",
              "      <td>Pune</td>\n",
              "      <td>1</td>\n",
              "      <td>10000</td>\n",
              "    </tr>\n",
              "    <tr>\n",
              "      <th>1</th>\n",
              "      <td>102</td>\n",
              "      <td>Human Resource</td>\n",
              "      <td>Bengalore</td>\n",
              "      <td>2</td>\n",
              "      <td>20000</td>\n",
              "    </tr>\n",
              "    <tr>\n",
              "      <th>2</th>\n",
              "      <td>103</td>\n",
              "      <td>IT</td>\n",
              "      <td>Hyderabad</td>\n",
              "      <td>3</td>\n",
              "      <td>40000</td>\n",
              "    </tr>\n",
              "    <tr>\n",
              "      <th>3</th>\n",
              "      <td>104</td>\n",
              "      <td>Security</td>\n",
              "      <td>Kochi</td>\n",
              "      <td>4</td>\n",
              "      <td>34000</td>\n",
              "    </tr>\n",
              "  </tbody>\n",
              "</table>\n",
              "</div>"
            ],
            "text/plain": [
              "   Deptno       Dept_name        Loc  Eno    Sal\n",
              "0     101        Accounts       Pune    1  10000\n",
              "1     102  Human Resource  Bengalore    2  20000\n",
              "2     103              IT  Hyderabad    3  40000\n",
              "3     104        Security      Kochi    4  34000"
            ]
          },
          "metadata": {
            "tags": []
          },
          "execution_count": 43
        }
      ]
    },
    {
      "cell_type": "code",
      "metadata": {
        "colab": {
          "base_uri": "https://localhost:8080/",
          "height": 171
        },
        "id": "NXp7DLkwz1QV",
        "outputId": "75d875b2-9ec7-436c-8276-93843b64792f"
      },
      "source": [
        "Right = pd.merge(dept,emp[['Deptno','Eno']],on='Deptno',how='right')\n",
        "Right\n"
      ],
      "execution_count": null,
      "outputs": [
        {
          "output_type": "execute_result",
          "data": {
            "text/html": [
              "<div>\n",
              "<style scoped>\n",
              "    .dataframe tbody tr th:only-of-type {\n",
              "        vertical-align: middle;\n",
              "    }\n",
              "\n",
              "    .dataframe tbody tr th {\n",
              "        vertical-align: top;\n",
              "    }\n",
              "\n",
              "    .dataframe thead th {\n",
              "        text-align: right;\n",
              "    }\n",
              "</style>\n",
              "<table border=\"1\" class=\"dataframe\">\n",
              "  <thead>\n",
              "    <tr style=\"text-align: right;\">\n",
              "      <th></th>\n",
              "      <th>Deptno</th>\n",
              "      <th>Dept_name</th>\n",
              "      <th>Loc</th>\n",
              "      <th>Eno</th>\n",
              "    </tr>\n",
              "  </thead>\n",
              "  <tbody>\n",
              "    <tr>\n",
              "      <th>0</th>\n",
              "      <td>101</td>\n",
              "      <td>Accounts</td>\n",
              "      <td>Pune</td>\n",
              "      <td>1</td>\n",
              "    </tr>\n",
              "    <tr>\n",
              "      <th>1</th>\n",
              "      <td>102</td>\n",
              "      <td>Human Resource</td>\n",
              "      <td>Bengalore</td>\n",
              "      <td>2</td>\n",
              "    </tr>\n",
              "    <tr>\n",
              "      <th>2</th>\n",
              "      <td>103</td>\n",
              "      <td>IT</td>\n",
              "      <td>Hyderabad</td>\n",
              "      <td>3</td>\n",
              "    </tr>\n",
              "    <tr>\n",
              "      <th>3</th>\n",
              "      <td>104</td>\n",
              "      <td>Security</td>\n",
              "      <td>Kochi</td>\n",
              "      <td>4</td>\n",
              "    </tr>\n",
              "  </tbody>\n",
              "</table>\n",
              "</div>"
            ],
            "text/plain": [
              "   Deptno       Dept_name        Loc  Eno\n",
              "0     101        Accounts       Pune    1\n",
              "1     102  Human Resource  Bengalore    2\n",
              "2     103              IT  Hyderabad    3\n",
              "3     104        Security      Kochi    4"
            ]
          },
          "metadata": {
            "tags": []
          },
          "execution_count": 47
        }
      ]
    },
    {
      "cell_type": "code",
      "metadata": {
        "colab": {
          "base_uri": "https://localhost:8080/",
          "height": 171
        },
        "id": "kKUGFW3Vz88L",
        "outputId": "bccfaab5-a892-47ee-bad6-a44a66d0a998"
      },
      "source": [
        "left = pd.merge(dept,emp[['Deptno','Sal']],on='Deptno',how='left')\n",
        "left"
      ],
      "execution_count": null,
      "outputs": [
        {
          "output_type": "execute_result",
          "data": {
            "text/html": [
              "<div>\n",
              "<style scoped>\n",
              "    .dataframe tbody tr th:only-of-type {\n",
              "        vertical-align: middle;\n",
              "    }\n",
              "\n",
              "    .dataframe tbody tr th {\n",
              "        vertical-align: top;\n",
              "    }\n",
              "\n",
              "    .dataframe thead th {\n",
              "        text-align: right;\n",
              "    }\n",
              "</style>\n",
              "<table border=\"1\" class=\"dataframe\">\n",
              "  <thead>\n",
              "    <tr style=\"text-align: right;\">\n",
              "      <th></th>\n",
              "      <th>Deptno</th>\n",
              "      <th>Dept_name</th>\n",
              "      <th>Loc</th>\n",
              "      <th>Sal</th>\n",
              "    </tr>\n",
              "  </thead>\n",
              "  <tbody>\n",
              "    <tr>\n",
              "      <th>0</th>\n",
              "      <td>101</td>\n",
              "      <td>Accounts</td>\n",
              "      <td>Pune</td>\n",
              "      <td>10000</td>\n",
              "    </tr>\n",
              "    <tr>\n",
              "      <th>1</th>\n",
              "      <td>102</td>\n",
              "      <td>Human Resource</td>\n",
              "      <td>Bengalore</td>\n",
              "      <td>20000</td>\n",
              "    </tr>\n",
              "    <tr>\n",
              "      <th>2</th>\n",
              "      <td>103</td>\n",
              "      <td>IT</td>\n",
              "      <td>Hyderabad</td>\n",
              "      <td>40000</td>\n",
              "    </tr>\n",
              "    <tr>\n",
              "      <th>3</th>\n",
              "      <td>104</td>\n",
              "      <td>Security</td>\n",
              "      <td>Kochi</td>\n",
              "      <td>34000</td>\n",
              "    </tr>\n",
              "  </tbody>\n",
              "</table>\n",
              "</div>"
            ],
            "text/plain": [
              "   Deptno       Dept_name        Loc    Sal\n",
              "0     101        Accounts       Pune  10000\n",
              "1     102  Human Resource  Bengalore  20000\n",
              "2     103              IT  Hyderabad  40000\n",
              "3     104        Security      Kochi  34000"
            ]
          },
          "metadata": {
            "tags": []
          },
          "execution_count": 48
        }
      ]
    },
    {
      "cell_type": "code",
      "metadata": {
        "colab": {
          "base_uri": "https://localhost:8080/",
          "height": 171
        },
        "id": "1hN11gru3g04",
        "outputId": "92a8d7ae-2189-4116-9161-29f4ddb2d07b"
      },
      "source": [
        "Outer = pd.merge(dept,emp[['Eno','Deptno']],on='Deptno',how='outer')\n",
        "Outer\n"
      ],
      "execution_count": null,
      "outputs": [
        {
          "output_type": "execute_result",
          "data": {
            "text/html": [
              "<div>\n",
              "<style scoped>\n",
              "    .dataframe tbody tr th:only-of-type {\n",
              "        vertical-align: middle;\n",
              "    }\n",
              "\n",
              "    .dataframe tbody tr th {\n",
              "        vertical-align: top;\n",
              "    }\n",
              "\n",
              "    .dataframe thead th {\n",
              "        text-align: right;\n",
              "    }\n",
              "</style>\n",
              "<table border=\"1\" class=\"dataframe\">\n",
              "  <thead>\n",
              "    <tr style=\"text-align: right;\">\n",
              "      <th></th>\n",
              "      <th>Deptno</th>\n",
              "      <th>Dept_name</th>\n",
              "      <th>Loc</th>\n",
              "      <th>Eno</th>\n",
              "    </tr>\n",
              "  </thead>\n",
              "  <tbody>\n",
              "    <tr>\n",
              "      <th>0</th>\n",
              "      <td>101</td>\n",
              "      <td>Accounts</td>\n",
              "      <td>Pune</td>\n",
              "      <td>1</td>\n",
              "    </tr>\n",
              "    <tr>\n",
              "      <th>1</th>\n",
              "      <td>102</td>\n",
              "      <td>Human Resource</td>\n",
              "      <td>Bengalore</td>\n",
              "      <td>2</td>\n",
              "    </tr>\n",
              "    <tr>\n",
              "      <th>2</th>\n",
              "      <td>103</td>\n",
              "      <td>IT</td>\n",
              "      <td>Hyderabad</td>\n",
              "      <td>3</td>\n",
              "    </tr>\n",
              "    <tr>\n",
              "      <th>3</th>\n",
              "      <td>104</td>\n",
              "      <td>Security</td>\n",
              "      <td>Kochi</td>\n",
              "      <td>4</td>\n",
              "    </tr>\n",
              "  </tbody>\n",
              "</table>\n",
              "</div>"
            ],
            "text/plain": [
              "   Deptno       Dept_name        Loc  Eno\n",
              "0     101        Accounts       Pune    1\n",
              "1     102  Human Resource  Bengalore    2\n",
              "2     103              IT  Hyderabad    3\n",
              "3     104        Security      Kochi    4"
            ]
          },
          "metadata": {
            "tags": []
          },
          "execution_count": 50
        }
      ]
    },
    {
      "cell_type": "markdown",
      "metadata": {
        "id": "DnnDXhdN0Htf"
      },
      "source": [
        "Descriptive and Inferential Statistics:\n",
        "7. Suppose the height of men in the United Kingdom is known to be normally distributed with a mean of 177 centimeters and a standard deviation of 10 centimeters. If you were to select a man from the United Kingdom population at random, what is the probability that he would be more than 200 centimeters tall?\n",
        "\n",
        "8.Let's take the mileage and horsepower of various cars and see if there is a relation between the two.\n",
        "\n",
        "mpg = [21.0, 21.0, 22.8, 21.4, 18.7, 18.1, 14.3, 24.4, 22.8, 19.2, 17.8, 16.4, 17.3, 15.2, 10.4, 10.4, 14.7, 32.4, 30.4,\n",
        "       33.9, 21.5, 15.5, 15.2, 13.3, 19.2, 27.3, 26.0, 30.4, 15.8, 19.7, 15.0, 21.4]\n",
        "hp = [110, 110, 93, 110, 175, 105, 245, 62, 95, 123, 123, 180, 180, 180, 205, 215, 230, 66, 52, 65, 97, 150, 150, 245, 175, 66, 91, 113, 264, 175, 335, 109]\n",
        "\n",
        "\n",
        "9.  Perform T-test on two classes that are given a mathematics test and have 10 students in each class. Determine if 2 distributions are identical or not.\n",
        "\n",
        "class1_score = np.array([45.0, 40.0, 49.0, 52.0, 54.0, 64.0, 36.0, 41.0, 42.0, 34.0])\n",
        "\n",
        "class2_score = np.array([75.0, 85.0, 53.0, 70.0, 72.0, 93.0, 61.0, 65.0, 65.0, 72.0])\n",
        "\n",
        "10. The mean score of the mathematics exam at a national level is 60 marks and the standard deviation is 3 marks. The mean marks of a class are 53. The null hypothesis is that the mean marks of the class are similar to the national average.  Test this Hypothesis using Z – Test.\n",
        "\n",
        "11. Calculate Pearson correlation coefficient between Girth and Volume in trees dataset( trees csv file) Pl mention what you draw from correlation coefficient \n",
        "\n",
        "12. Suppose that you want to perform a hypothesis test to help determine whether the correlation between tree girth and tree volume is statistically significant.\n",
        "\n",
        "Perform a two-sided test of the Pearson's product moment correlation between tree girth and volume at the 5% significance level,\n"
      ]
    },
    {
      "cell_type": "code",
      "metadata": {
        "colab": {
          "base_uri": "https://localhost:8080/"
        },
        "id": "I9ZOetPAaJAx",
        "outputId": "f9dad747-50d2-40b2-b35d-98704b6735f0"
      },
      "source": [
        "var = 10\n",
        "mean = 177\n",
        "x = 200\n",
        "y = x-mean\n",
        "z = y/var\n",
        "z"
      ],
      "execution_count": null,
      "outputs": [
        {
          "output_type": "execute_result",
          "data": {
            "text/plain": [
              "2.3"
            ]
          },
          "metadata": {
            "tags": []
          },
          "execution_count": 24
        }
      ]
    },
    {
      "cell_type": "code",
      "metadata": {
        "colab": {
          "base_uri": "https://localhost:8080/",
          "height": 265
        },
        "id": "sXyEDkFDhV5f",
        "outputId": "bafffc6d-b593-4c13-cc86-44e6b14672c8"
      },
      "source": [
        "from scipy import stats\n",
        "\n",
        "mpg = [21.0, 21.0, 22.8, 21.4, 18.7, 18.1, 14.3, 24.4, 22.8, 19.2, 17.8, 16.4, 17.3, 15.2, 10.4, 10.4, 14.7, 32.4, 30.4,\n",
        "       33.9, 21.5, 15.5, 15.2, 13.3, 19.2, 27.3, 26.0, 30.4, 15.8, 19.7, 15.0, 21.4]\n",
        "hp = [110, 110, 93, 110, 175, 105, 245, 62, 95, 123, 123, 180, 180, 180, 205, 215, 230, 66, 52, 65, 97, 150, 150, 245, 175, 66, 91, 113, 264, 175, 335, 109]\n",
        "\n",
        "stats.pearsonr(mpg,hp)\n",
        "plt.scatter(mpg,hp)\n",
        "plt.show()"
      ],
      "execution_count": null,
      "outputs": [
        {
          "output_type": "display_data",
          "data": {
            "image/png": "[encoded data removed]",
            "text/plain": [
              "<Figure size 432x288 with 1 Axes>"
            ]
          },
          "metadata": {
            "tags": [],
            "needs_background": "light"
          }
        }
      ]
    },
    {
      "cell_type": "code",
      "metadata": {
        "id": "tB1T43-nnf-l",
        "colab": {
          "base_uri": "https://localhost:8080/"
        },
        "outputId": "05799fb9-1eca-44a0-c025-fe544bcb6957"
      },
      "source": [
        "import numpy as np\n",
        "from math import sqrt\n",
        "from numpy.random import seed\n",
        "from numpy.random import randn\n",
        "from numpy import mean\n",
        "from scipy.stats import sem\n",
        "from scipy.stats import t\n",
        "\n",
        "data1 = np.array([45.0, 40.0, 49.0, 52.0, 54.0, 64.0, 36.0, 41.0, 42.0, 34.0])\n",
        "\n",
        "data2 = np.array([75.0, 85.0, 53.0, 70.0, 72.0, 93.0, 61.0, 65.0, 65.0, 72.0])\n",
        "alpha = 0.05\n",
        "\n",
        "# calculate means\n",
        "mean1 = mean(data1)\n",
        "mean2 = mean(data2)\n",
        "# calculate standard errors\n",
        "se1 = sem(data1)\n",
        "se2 = sem(data2)\n",
        "# standard error on the difference between the samples\n",
        "sed = sqrt(se1**2.0 + se2**2.0)\n",
        "# calculate the t statistic\n",
        "t_stat = (mean1 - mean2) / sed\n",
        "# degrees of freedom\n",
        "df = len(data1) + len(data2) - 2\n",
        "# calculate the critical value\n",
        "cv = t.ppf(1.0 - alpha, df)\n",
        "# calculate the p-value\n",
        "p = (1.0 - t.cdf(abs(t_stat), df)) * 2.0\n",
        "# return everything\n",
        "print(\"t_stat :\",t_stat)\n",
        "print(\"df :\",df)\n",
        "print(\"cv :\",cv)\n",
        "print(\"p :\",p)\n",
        "\n",
        "if abs(t_stat) <= cv:\n",
        "\tprint('Accept null hypothesis that the means are equal.')\n",
        "else:\n",
        "\tprint('Reject the null hypothesis that the means are equal.')"
      ],
      "execution_count": null,
      "outputs": [
        {
          "output_type": "stream",
          "text": [
            "t_stat : -5.458195056848408\n",
            "df : 18\n",
            "cv : 1.7340636066175354\n",
            "p : 3.482072285021509e-05\n",
            "Reject the null hypothesis that the means are equal.\n"
          ],
          "name": "stdout"
        }
      ]
    },
    {
      "cell_type": "code",
      "metadata": {
        "id": "EC5sRhbsMlcU",
        "colab": {
          "base_uri": "https://localhost:8080/"
        },
        "outputId": "ce2fcef3-c328-4d73-ec53-6b2946db85e2"
      },
      "source": [
        "import math\n",
        "import numpy as np\n",
        "from numpy.random import randn\n",
        "from statsmodels.stats.weightstats import ztest\n",
        "mean_maths_exam = 60\n",
        "std_dev = 3\n",
        "alpha =0.05\n",
        "z_score = 1.645\n",
        "mean_class = 53\n",
        "null_mean = mean_class\n",
        "a = mean_maths_exam - mean_class\n",
        "sample_size = mean_class/mean_maths_exam\n",
        "b = std_dev/math.sqrt(sample_size)\n",
        "c = a/b\n",
        "print(c)\n",
        "\n",
        "if abs(c) <= z_score:\n",
        "\tprint('Accept null hypothesis.')\n",
        "else:\n",
        "\tprint('Reject the null hypothesis.')\n"
      ],
      "execution_count": null,
      "outputs": [
        {
          "output_type": "stream",
          "text": [
            "2.193002339091151\n",
            "Reject the null hypothesis.\n"
          ],
          "name": "stdout"
        }
      ]
    },
    {
      "cell_type": "code",
      "metadata": {
        "id": "z2omej74fZCv",
        "colab": {
          "base_uri": "https://localhost:8080/"
        },
        "outputId": "5e4eb775-d88e-424e-892a-d0d5dab3e476"
      },
      "source": [
        "import pandas as pd\n",
        "from scipy.stats import pearsonr\n",
        "  \n",
        "col_name=['Girth','Volume']\n",
        "df = pd.read_csv('/content/drive/MyDrive/trees.csv',usecols=col_name)\n",
        "  \n",
        "# Convert dataframe into series\n",
        "list1 = df['Girth']\n",
        "list2 = df['Volume']\n",
        "  \n",
        "# Apply the pearsonr()\n",
        "corr, _ = pearsonr(list1, list2)\n",
        "print('Pearsons correlation: %.3f' % corr)\n",
        "\n",
        "if corr<0 :\n",
        "  print('Negative correlation')\n",
        "else:\n",
        "  print('Positive correlation')"
      ],
      "execution_count": null,
      "outputs": [
        {
          "output_type": "stream",
          "text": [
            "Pearsons correlation: 0.967\n",
            "Positive correlation\n"
          ],
          "name": "stdout"
        }
      ]
    },
    {
      "cell_type": "code",
      "metadata": {
        "id": "boMdSo8N0TOr",
        "colab": {
          "base_uri": "https://localhost:8080/"
        },
        "outputId": "2f6d1e01-d4ed-4cc9-d279-d4373016c0db"
      },
      "source": [
        "alpha =0.05\n",
        "P = 0.967\n",
        "if P>alpha:\n",
        "  print('Accept Null Hypothesis')\n",
        "else:\n",
        "  print('Reject Null Hypothesis')\n",
        "\n"
      ],
      "execution_count": null,
      "outputs": [
        {
          "output_type": "stream",
          "text": [
            "Accept Null Hypothesis\n"
          ],
          "name": "stdout"
        }
      ]
    },
    {
      "cell_type": "markdown",
      "metadata": {
        "id": "M9L_jY2R0a9V"
      },
      "source": [
        "12. Use Automobile price data Raw csv file : \n",
        "•\tSplit data 80% to train 20% for test\n",
        "•\tpredict price for 20% test data\n",
        "•\tDetermine R-Squared value\n",
        "\n",
        "13. The Pima Indians Diabetes Binary Classification dataset  csv file contains all of the data of female   patients of the same age belonging to Pima Indian heritage. The data includes medical data, such as glucose and insulin levels, as well as lifestyle factors of the patients. The columns in the dataset are as follows: \n",
        "•\tNumber of times pregnant\n",
        "•\tPlasma glucose concentration of 2 hours in an oral glucose tolerance test\n",
        "•\tDiastolic blood pressure (mm Hg)\n",
        "•\tTriceps skin fold thickness (mm)\n",
        "•\t2-hour serum insulin (mu U/ml)\n",
        "•\tBody mass index (weight in kg/(height in m)^2)\n",
        "•\tDiabetes pedigree function\n",
        "•\tAge (years)\n",
        "•\tClass variable (0 or 1)\n",
        "•\tThe last column is the target variable or class variable that takes the value 0 or 1, where 1 is positive or affected by diabetes and 0 means that the patient is not affected.\n",
        "•\tYou have to build models that could predict whether a patient has diabetes or tests positive or not using logistic regression\n",
        "\n",
        "14.  Use hotel.csv file and Show how to cluster hotel location data with K-means Clustering. That is perform K-means clustering on hotel location data to identify whether the hotels are located in the same district. \n",
        " Using k-means cluster location data for 3 clusters. \n",
        "\n"
      ]
    },
    {
      "cell_type": "code",
      "metadata": {
        "id": "HubgvVqQn6kI"
      },
      "source": [
        "import pandas as pd\n",
        "import matplotlib.pyplot as plt\n",
        "import numpy as np\n",
        "%matplotlib inline"
      ],
      "execution_count": null,
      "outputs": []
    },
    {
      "cell_type": "code",
      "metadata": {
        "colab": {
          "base_uri": "https://localhost:8080/",
          "height": 415
        },
        "id": "GJ1XcWHcEslT",
        "outputId": "ef723727-5ca9-4488-c57d-7659904aea3e"
      },
      "source": [
        "col_name=['normalized-losses','horsepower','price','compression-ratio','bore','stroke']\n",
        "df = pd.read_csv('/content/drive/MyDrive/Automobile price data_raw.csv',sep=',',index_col=None,usecols=col_name)\n",
        "df['price'] = pd.to_numeric(df['price'], errors='coerce')\n",
        "df['price'] = df['price'].replace('?',0)\n",
        "df['price'] = df['price'].replace(np.nan,0)\n",
        "\n",
        "\n",
        "df['normalized-losses'] = pd.to_numeric(df['normalized-losses'], errors='coerce')\n",
        "df['normalized-losses'] = df['normalized-losses'].replace('?',0)\n",
        "df['normalized-losses'] = df['normalized-losses'].replace(np.nan,0)\n",
        "n = df['normalized-losses']\n",
        "\n",
        "df['horsepower'] = pd.to_numeric(df['horsepower'], errors='coerce')\n",
        "df['horsepower'] = df['horsepower'].replace('?',0)\n",
        "df['horsepower'] = df['horsepower'].replace(np.nan,0)\n",
        "n = df['horsepower']\n",
        "\n",
        "df['bore'] = df['bore'].replace('?',0)\n",
        "df['bore'] = df['bore'].replace(np.nan,0)\n",
        "n = df['bore']\n",
        "\n",
        "df['stroke'] = pd.to_numeric(df['stroke'], errors='coerce')\n",
        "df['stroke'] = df['stroke'].replace('?',0)\n",
        "df['stroke'] = df['stroke'].replace(np.nan,0)\n",
        "n = df['stroke']\n",
        "\n",
        "#df['peak-rpm'] = pd.to_numeric(df['peak-rpm'], errors='coerce')\n",
        "#df['peak-rpm'] = df['peak-rpm'].replace('?',0)\n",
        "#df['peak-rpm'] = df['peak-rpm'].replace(np.nan,0)\n",
        "#n = df['peak-rpm']\n",
        "\n",
        "df\n"
      ],
      "execution_count": null,
      "outputs": [
        {
          "output_type": "execute_result",
          "data": {
            "text/html": [
              "<div>\n",
              "<style scoped>\n",
              "    .dataframe tbody tr th:only-of-type {\n",
              "        vertical-align: middle;\n",
              "    }\n",
              "\n",
              "    .dataframe tbody tr th {\n",
              "        vertical-align: top;\n",
              "    }\n",
              "\n",
              "    .dataframe thead th {\n",
              "        text-align: right;\n",
              "    }\n",
              "</style>\n",
              "<table border=\"1\" class=\"dataframe\">\n",
              "  <thead>\n",
              "    <tr style=\"text-align: right;\">\n",
              "      <th></th>\n",
              "      <th>normalized-losses</th>\n",
              "      <th>bore</th>\n",
              "      <th>stroke</th>\n",
              "      <th>compression-ratio</th>\n",
              "      <th>horsepower</th>\n",
              "      <th>price</th>\n",
              "    </tr>\n",
              "  </thead>\n",
              "  <tbody>\n",
              "    <tr>\n",
              "      <th>0</th>\n",
              "      <td>0.0</td>\n",
              "      <td>3.47</td>\n",
              "      <td>2.68</td>\n",
              "      <td>9.0</td>\n",
              "      <td>111.0</td>\n",
              "      <td>13495.0</td>\n",
              "    </tr>\n",
              "    <tr>\n",
              "      <th>1</th>\n",
              "      <td>0.0</td>\n",
              "      <td>3.47</td>\n",
              "      <td>2.68</td>\n",
              "      <td>9.0</td>\n",
              "      <td>111.0</td>\n",
              "      <td>16500.0</td>\n",
              "    </tr>\n",
              "    <tr>\n",
              "      <th>2</th>\n",
              "      <td>0.0</td>\n",
              "      <td>2.68</td>\n",
              "      <td>3.47</td>\n",
              "      <td>9.0</td>\n",
              "      <td>154.0</td>\n",
              "      <td>16500.0</td>\n",
              "    </tr>\n",
              "    <tr>\n",
              "      <th>3</th>\n",
              "      <td>164.0</td>\n",
              "      <td>3.19</td>\n",
              "      <td>3.40</td>\n",
              "      <td>10.0</td>\n",
              "      <td>102.0</td>\n",
              "      <td>13950.0</td>\n",
              "    </tr>\n",
              "    <tr>\n",
              "      <th>4</th>\n",
              "      <td>164.0</td>\n",
              "      <td>3.19</td>\n",
              "      <td>3.40</td>\n",
              "      <td>8.0</td>\n",
              "      <td>115.0</td>\n",
              "      <td>17450.0</td>\n",
              "    </tr>\n",
              "    <tr>\n",
              "      <th>...</th>\n",
              "      <td>...</td>\n",
              "      <td>...</td>\n",
              "      <td>...</td>\n",
              "      <td>...</td>\n",
              "      <td>...</td>\n",
              "      <td>...</td>\n",
              "    </tr>\n",
              "    <tr>\n",
              "      <th>200</th>\n",
              "      <td>95.0</td>\n",
              "      <td>3.78</td>\n",
              "      <td>3.15</td>\n",
              "      <td>9.5</td>\n",
              "      <td>114.0</td>\n",
              "      <td>16845.0</td>\n",
              "    </tr>\n",
              "    <tr>\n",
              "      <th>201</th>\n",
              "      <td>95.0</td>\n",
              "      <td>3.78</td>\n",
              "      <td>3.15</td>\n",
              "      <td>8.7</td>\n",
              "      <td>160.0</td>\n",
              "      <td>19045.0</td>\n",
              "    </tr>\n",
              "    <tr>\n",
              "      <th>202</th>\n",
              "      <td>95.0</td>\n",
              "      <td>3.58</td>\n",
              "      <td>2.87</td>\n",
              "      <td>8.8</td>\n",
              "      <td>134.0</td>\n",
              "      <td>21485.0</td>\n",
              "    </tr>\n",
              "    <tr>\n",
              "      <th>203</th>\n",
              "      <td>95.0</td>\n",
              "      <td>3.01</td>\n",
              "      <td>3.40</td>\n",
              "      <td>23.0</td>\n",
              "      <td>106.0</td>\n",
              "      <td>22470.0</td>\n",
              "    </tr>\n",
              "    <tr>\n",
              "      <th>204</th>\n",
              "      <td>95.0</td>\n",
              "      <td>3.78</td>\n",
              "      <td>3.15</td>\n",
              "      <td>9.5</td>\n",
              "      <td>114.0</td>\n",
              "      <td>22625.0</td>\n",
              "    </tr>\n",
              "  </tbody>\n",
              "</table>\n",
              "<p>205 rows × 6 columns</p>\n",
              "</div>"
            ],
            "text/plain": [
              "     normalized-losses  bore  stroke  compression-ratio  horsepower    price\n",
              "0                  0.0  3.47    2.68                9.0       111.0  13495.0\n",
              "1                  0.0  3.47    2.68                9.0       111.0  16500.0\n",
              "2                  0.0  2.68    3.47                9.0       154.0  16500.0\n",
              "3                164.0  3.19    3.40               10.0       102.0  13950.0\n",
              "4                164.0  3.19    3.40                8.0       115.0  17450.0\n",
              "..                 ...   ...     ...                ...         ...      ...\n",
              "200               95.0  3.78    3.15                9.5       114.0  16845.0\n",
              "201               95.0  3.78    3.15                8.7       160.0  19045.0\n",
              "202               95.0  3.58    2.87                8.8       134.0  21485.0\n",
              "203               95.0  3.01    3.40               23.0       106.0  22470.0\n",
              "204               95.0  3.78    3.15                9.5       114.0  22625.0\n",
              "\n",
              "[205 rows x 6 columns]"
            ]
          },
          "metadata": {
            "tags": []
          },
          "execution_count": 90
        }
      ]
    },
    {
      "cell_type": "code",
      "metadata": {
        "id": "UuAxsqvhkTsw"
      },
      "source": [
        "import sklearn\n",
        "from sklearn.utils import shuffle\n",
        "from sklearn.neighbors import KNeighborsClassifier\n",
        "import pandas as pd\n",
        "import numpy as np\n",
        "from sklearn import linear_model, preprocessing\n",
        "from sklearn.metrics import classification_report, confusion_matrix"
      ],
      "execution_count": null,
      "outputs": []
    },
    {
      "cell_type": "code",
      "metadata": {
        "id": "_Ds2osEHkjLj"
      },
      "source": [
        "X = np.array(df.drop(['price'],1))\n",
        "y = np.array(df['price'])"
      ],
      "execution_count": null,
      "outputs": []
    },
    {
      "cell_type": "code",
      "metadata": {
        "id": "PWAG0aWwkqUZ"
      },
      "source": [
        "X_train, X_test, y_train, y_test = sklearn.model_selection.train_test_split(X, y, test_size = 0.2)"
      ],
      "execution_count": null,
      "outputs": []
    },
    {
      "cell_type": "code",
      "metadata": {
        "id": "XYxx9JZek03w"
      },
      "source": [
        "from sklearn.neighbors import KNeighborsClassifier\n",
        "\n",
        "model = KNeighborsClassifier(n_neighbors=5)"
      ],
      "execution_count": null,
      "outputs": []
    },
    {
      "cell_type": "code",
      "metadata": {
        "colab": {
          "base_uri": "https://localhost:8080/"
        },
        "id": "zKf7W47Ek2qz",
        "outputId": "ade9cd1b-0523-48bb-c2c4-80ada66c199c"
      },
      "source": [
        "model.fit(X_train, y_train)"
      ],
      "execution_count": null,
      "outputs": [
        {
          "output_type": "execute_result",
          "data": {
            "text/plain": [
              "KNeighborsClassifier(algorithm='auto', leaf_size=30, metric='minkowski',\n",
              "                     metric_params=None, n_jobs=None, n_neighbors=5, p=2,\n",
              "                     weights='uniform')"
            ]
          },
          "metadata": {
            "tags": []
          },
          "execution_count": 95
        }
      ]
    },
    {
      "cell_type": "code",
      "metadata": {
        "colab": {
          "base_uri": "https://localhost:8080/"
        },
        "id": "3F8SsGT11GdD",
        "outputId": "34e20481-dba7-4b0a-cd8c-a2a1d605dbc6"
      },
      "source": [
        "acc = model.score(X_test, y_test)\n",
        "print(acc)"
      ],
      "execution_count": null,
      "outputs": [
        {
          "output_type": "stream",
          "text": [
            "0.04878048780487805\n"
          ],
          "name": "stdout"
        }
      ]
    },
    {
      "cell_type": "code",
      "metadata": {
        "colab": {
          "base_uri": "https://localhost:8080/"
        },
        "id": "0tIzT6rH2Bda",
        "outputId": "50e925aa-b439-4513-ff94-60288f0ce23f"
      },
      "source": [
        "prediction = model.predict(X_test)\n",
        "print(prediction)"
      ],
      "execution_count": null,
      "outputs": [
        {
          "output_type": "stream",
          "text": [
            "[ 7689. 11694.  7895.  8949. 11900.  5118. 16845.  7295.  7689.  5195.\n",
            " 13499.     0.  7689.  7689.  7957.  7463.  7295.  5118.  5118.  7126.\n",
            " 16503.  6529.  5389. 11845.  5118.  5499.  8449. 13499.  5389.  7295.\n",
            "  6529.  5118.  5572.  9279.     0.  8449.  7689. 18150.     0. 11048.\n",
            " 30760.]\n"
          ],
          "name": "stdout"
        }
      ]
    },
    {
      "cell_type": "code",
      "metadata": {
        "colab": {
          "base_uri": "https://localhost:8080/"
        },
        "id": "813OMVpp9B1b",
        "outputId": "03cb8f4e-b410-4e07-b352-8d7a6371385d"
      },
      "source": [
        "y_test"
      ],
      "execution_count": null,
      "outputs": [
        {
          "output_type": "execute_result",
          "data": {
            "text/plain": [
              "array([ 8499., 16515.,  9960.,  9995., 13200.,  6938., 31600., 11245.,\n",
              "       16630.,  5399., 13499., 36880.,  9538., 17450.,  7957., 10295.,\n",
              "        8948.,  8358.,  6488.,  9095., 40960.,  9233.,  8058.,  8558.,\n",
              "        5348.,  6479.,  9989., 18620.,  6189.,  8495.,  7775.,  7738.,\n",
              "        6695.,  9959., 41315., 17669., 10945., 12964., 16500., 13860.,\n",
              "       32528.])"
            ]
          },
          "metadata": {
            "tags": []
          },
          "execution_count": 99
        }
      ]
    },
    {
      "cell_type": "code",
      "metadata": {
        "id": "GouWxDu_9Dpw",
        "colab": {
          "base_uri": "https://localhost:8080/"
        },
        "outputId": "de2dd128-c804-47b2-b049-8de5bab8301d"
      },
      "source": [
        "print(confusion_matrix(y_test, prediction))\n",
        "print(classification_report(y_test, prediction))"
      ],
      "execution_count": null,
      "outputs": [
        {
          "output_type": "stream",
          "text": [
            "[[0 0 0 ... 0 0 0]\n",
            " [0 0 0 ... 0 0 0]\n",
            " [0 0 0 ... 0 0 0]\n",
            " ...\n",
            " [1 0 0 ... 0 0 0]\n",
            " [0 0 0 ... 0 0 0]\n",
            " [1 0 0 ... 0 0 0]]\n",
            "              precision    recall  f1-score   support\n",
            "\n",
            "         0.0       0.00      0.00      0.00         0\n",
            "      5118.0       0.00      0.00      0.00         0\n",
            "      5195.0       0.00      0.00      0.00         0\n",
            "      5348.0       0.00      0.00      0.00         1\n",
            "      5389.0       0.00      0.00      0.00         0\n",
            "      5399.0       0.00      0.00      0.00         1\n",
            "      5499.0       0.00      0.00      0.00         0\n",
            "      5572.0       0.00      0.00      0.00         0\n",
            "      6189.0       0.00      0.00      0.00         1\n",
            "      6479.0       0.00      0.00      0.00         1\n",
            "      6488.0       0.00      0.00      0.00         1\n",
            "      6529.0       0.00      0.00      0.00         0\n",
            "      6695.0       0.00      0.00      0.00         1\n",
            "      6938.0       0.00      0.00      0.00         1\n",
            "      7126.0       0.00      0.00      0.00         0\n",
            "      7295.0       0.00      0.00      0.00         0\n",
            "      7463.0       0.00      0.00      0.00         0\n",
            "      7689.0       0.00      0.00      0.00         0\n",
            "      7738.0       0.00      0.00      0.00         1\n",
            "      7775.0       0.00      0.00      0.00         1\n",
            "      7895.0       0.00      0.00      0.00         0\n",
            "      7957.0       1.00      1.00      1.00         1\n",
            "      8058.0       0.00      0.00      0.00         1\n",
            "      8358.0       0.00      0.00      0.00         1\n",
            "      8449.0       0.00      0.00      0.00         0\n",
            "      8495.0       0.00      0.00      0.00         1\n",
            "      8499.0       0.00      0.00      0.00         1\n",
            "      8558.0       0.00      0.00      0.00         1\n",
            "      8948.0       0.00      0.00      0.00         1\n",
            "      8949.0       0.00      0.00      0.00         0\n",
            "      9095.0       0.00      0.00      0.00         1\n",
            "      9233.0       0.00      0.00      0.00         1\n",
            "      9279.0       0.00      0.00      0.00         0\n",
            "      9538.0       0.00      0.00      0.00         1\n",
            "      9959.0       0.00      0.00      0.00         1\n",
            "      9960.0       0.00      0.00      0.00         1\n",
            "      9989.0       0.00      0.00      0.00         1\n",
            "      9995.0       0.00      0.00      0.00         1\n",
            "     10295.0       0.00      0.00      0.00         1\n",
            "     10945.0       0.00      0.00      0.00         1\n",
            "     11048.0       0.00      0.00      0.00         0\n",
            "     11245.0       0.00      0.00      0.00         1\n",
            "     11694.0       0.00      0.00      0.00         0\n",
            "     11845.0       0.00      0.00      0.00         0\n",
            "     11900.0       0.00      0.00      0.00         0\n",
            "     12964.0       0.00      0.00      0.00         1\n",
            "     13200.0       0.00      0.00      0.00         1\n",
            "     13499.0       0.50      1.00      0.67         1\n",
            "     13860.0       0.00      0.00      0.00         1\n",
            "     16500.0       0.00      0.00      0.00         1\n",
            "     16503.0       0.00      0.00      0.00         0\n",
            "     16515.0       0.00      0.00      0.00         1\n",
            "     16630.0       0.00      0.00      0.00         1\n",
            "     16845.0       0.00      0.00      0.00         0\n",
            "     17450.0       0.00      0.00      0.00         1\n",
            "     17669.0       0.00      0.00      0.00         1\n",
            "     18150.0       0.00      0.00      0.00         0\n",
            "     18620.0       0.00      0.00      0.00         1\n",
            "     30760.0       0.00      0.00      0.00         0\n",
            "     31600.0       0.00      0.00      0.00         1\n",
            "     32528.0       0.00      0.00      0.00         1\n",
            "     36880.0       0.00      0.00      0.00         1\n",
            "     40960.0       0.00      0.00      0.00         1\n",
            "     41315.0       0.00      0.00      0.00         1\n",
            "\n",
            "    accuracy                           0.05        41\n",
            "   macro avg       0.02      0.03      0.03        41\n",
            "weighted avg       0.04      0.05      0.04        41\n",
            "\n"
          ],
          "name": "stdout"
        },
        {
          "output_type": "stream",
          "text": [
            "/usr/local/lib/python3.7/dist-packages/sklearn/metrics/_classification.py:1272: UndefinedMetricWarning: Precision and F-score are ill-defined and being set to 0.0 in labels with no predicted samples. Use `zero_division` parameter to control this behavior.\n",
            "  _warn_prf(average, modifier, msg_start, len(result))\n",
            "/usr/local/lib/python3.7/dist-packages/sklearn/metrics/_classification.py:1272: UndefinedMetricWarning: Recall and F-score are ill-defined and being set to 0.0 in labels with no true samples. Use `zero_division` parameter to control this behavior.\n",
            "  _warn_prf(average, modifier, msg_start, len(result))\n"
          ],
          "name": "stderr"
        }
      ]
    },
    {
      "cell_type": "code",
      "metadata": {
        "id": "EXTzvCOamEtW",
        "colab": {
          "base_uri": "https://localhost:8080/",
          "height": 271
        },
        "outputId": "8cc7c288-b94b-4294-f647-f7a1b077900d"
      },
      "source": [
        "import pandas as pd\n",
        "import matplotlib.pyplot as plt\n",
        "import numpy as np\n",
        "%matplotlib inline\n",
        "from sklearn.linear_model import LogisticRegression\n",
        "from sklearn.externals import joblib\n",
        "df = pd.read_csv('/content/drive/MyDrive/Pima Indians Diabetes Binary Class.csv',sep=',',index_col=None)\n",
        "df.head()"
      ],
      "execution_count": null,
      "outputs": [
        {
          "output_type": "execute_result",
          "data": {
            "text/html": [
              "<div>\n",
              "<style scoped>\n",
              "    .dataframe tbody tr th:only-of-type {\n",
              "        vertical-align: middle;\n",
              "    }\n",
              "\n",
              "    .dataframe tbody tr th {\n",
              "        vertical-align: top;\n",
              "    }\n",
              "\n",
              "    .dataframe thead th {\n",
              "        text-align: right;\n",
              "    }\n",
              "</style>\n",
              "<table border=\"1\" class=\"dataframe\">\n",
              "  <thead>\n",
              "    <tr style=\"text-align: right;\">\n",
              "      <th></th>\n",
              "      <th>Number of times pregnant</th>\n",
              "      <th>Plasma glucose concentration a 2 hours in an oral glucose tolerance test</th>\n",
              "      <th>Diastolic blood pressure (mm Hg)</th>\n",
              "      <th>Triceps skin fold thickness (mm)</th>\n",
              "      <th>2-Hour serum insulin (mu U/ml)</th>\n",
              "      <th>Body mass index (weight in kg/(height in m)^2)</th>\n",
              "      <th>Diabetes pedigree function</th>\n",
              "      <th>Age (years)</th>\n",
              "      <th>Class variable (0 or 1)</th>\n",
              "    </tr>\n",
              "  </thead>\n",
              "  <tbody>\n",
              "    <tr>\n",
              "      <th>0</th>\n",
              "      <td>6</td>\n",
              "      <td>148</td>\n",
              "      <td>72</td>\n",
              "      <td>35</td>\n",
              "      <td>0</td>\n",
              "      <td>33.6</td>\n",
              "      <td>0.627</td>\n",
              "      <td>50</td>\n",
              "      <td>1</td>\n",
              "    </tr>\n",
              "    <tr>\n",
              "      <th>1</th>\n",
              "      <td>1</td>\n",
              "      <td>85</td>\n",
              "      <td>66</td>\n",
              "      <td>29</td>\n",
              "      <td>0</td>\n",
              "      <td>26.6</td>\n",
              "      <td>0.351</td>\n",
              "      <td>31</td>\n",
              "      <td>0</td>\n",
              "    </tr>\n",
              "    <tr>\n",
              "      <th>2</th>\n",
              "      <td>8</td>\n",
              "      <td>183</td>\n",
              "      <td>64</td>\n",
              "      <td>0</td>\n",
              "      <td>0</td>\n",
              "      <td>23.3</td>\n",
              "      <td>0.672</td>\n",
              "      <td>32</td>\n",
              "      <td>1</td>\n",
              "    </tr>\n",
              "    <tr>\n",
              "      <th>3</th>\n",
              "      <td>1</td>\n",
              "      <td>89</td>\n",
              "      <td>66</td>\n",
              "      <td>23</td>\n",
              "      <td>94</td>\n",
              "      <td>28.1</td>\n",
              "      <td>0.167</td>\n",
              "      <td>21</td>\n",
              "      <td>0</td>\n",
              "    </tr>\n",
              "    <tr>\n",
              "      <th>4</th>\n",
              "      <td>0</td>\n",
              "      <td>137</td>\n",
              "      <td>40</td>\n",
              "      <td>35</td>\n",
              "      <td>168</td>\n",
              "      <td>43.1</td>\n",
              "      <td>2.288</td>\n",
              "      <td>33</td>\n",
              "      <td>1</td>\n",
              "    </tr>\n",
              "  </tbody>\n",
              "</table>\n",
              "</div>"
            ],
            "text/plain": [
              "   Number of times pregnant  ...  Class variable (0 or 1)\n",
              "0                         6  ...                        1\n",
              "1                         1  ...                        0\n",
              "2                         8  ...                        1\n",
              "3                         1  ...                        0\n",
              "4                         0  ...                        1\n",
              "\n",
              "[5 rows x 9 columns]"
            ]
          },
          "metadata": {
            "tags": []
          },
          "execution_count": 18
        }
      ]
    },
    {
      "cell_type": "code",
      "metadata": {
        "id": "_KNfgtpDc9vr"
      },
      "source": [
        "Train = df[:650]\n",
        "Test = df[650:750]\n",
        "CrossCheck = df[750:]\n",
        "\n",
        "trainLabel = np.asarray(Train['Class variable (0 or 1)'])\n",
        "trainData = np.asarray(Train.drop('Class variable (0 or 1)',1))\n",
        "testLabel = np.asarray(Test['Class variable (0 or 1)'])\n",
        "testData = np.asarray(Test.drop('Class variable (0 or 1)',1))"
      ],
      "execution_count": null,
      "outputs": []
    },
    {
      "cell_type": "code",
      "metadata": {
        "colab": {
          "base_uri": "https://localhost:8080/"
        },
        "id": "eTTSNyO7fb0G",
        "outputId": "5572af0c-f85c-4fc6-988a-46fdeaed4b81"
      },
      "source": [
        "#Normalise the data\n",
        "means = np.mean(trainData, axis=0)\n",
        "stds = np.std(trainData, axis=0)\n",
        "trainData = (trainData - means)/stds\n",
        "testData = (testData - means)/stds\n",
        "np.mean(trainData, axis=0) \n",
        "\n",
        "# np.mean(trainData, axis=0) => check that new means equal 0\n",
        "# np.std(trainData, axis=0) => check that new stds equal 1\n"
      ],
      "execution_count": null,
      "outputs": [
        {
          "output_type": "execute_result",
          "data": {
            "text/plain": [
              "array([ 5.46571335e-18, -1.50307117e-16,  3.22477088e-16, -2.39124959e-17,\n",
              "        3.82599935e-17,  4.91914202e-17,  1.50307117e-16,  1.17512837e-16])"
            ]
          },
          "metadata": {
            "tags": []
          },
          "execution_count": 20
        }
      ]
    },
    {
      "cell_type": "code",
      "metadata": {
        "colab": {
          "base_uri": "https://localhost:8080/"
        },
        "id": "ErvZqEkPfvVI",
        "outputId": "77d40e2d-5a01-411d-df04-a64acbd6feb1"
      },
      "source": [
        "np.std(trainData, axis=0) "
      ],
      "execution_count": null,
      "outputs": [
        {
          "output_type": "execute_result",
          "data": {
            "text/plain": [
              "array([1., 1., 1., 1., 1., 1., 1., 1.])"
            ]
          },
          "metadata": {
            "tags": []
          },
          "execution_count": 21
        }
      ]
    },
    {
      "cell_type": "code",
      "metadata": {
        "colab": {
          "base_uri": "https://localhost:8080/"
        },
        "id": "9-HM1EVhgIkg",
        "outputId": "32ea90d2-49ac-421c-f4ec-745dae80123b"
      },
      "source": [
        "diabetesCheck = LogisticRegression()\n",
        "diabetesCheck.fit(trainData, trainLabel)"
      ],
      "execution_count": null,
      "outputs": [
        {
          "output_type": "execute_result",
          "data": {
            "text/plain": [
              "LogisticRegression(C=1.0, class_weight=None, dual=False, fit_intercept=True,\n",
              "                   intercept_scaling=1, l1_ratio=None, max_iter=100,\n",
              "                   multi_class='auto', n_jobs=None, penalty='l2',\n",
              "                   random_state=None, solver='lbfgs', tol=0.0001, verbose=0,\n",
              "                   warm_start=False)"
            ]
          },
          "metadata": {
            "tags": []
          },
          "execution_count": 22
        }
      ]
    },
    {
      "cell_type": "code",
      "metadata": {
        "colab": {
          "base_uri": "https://localhost:8080/"
        },
        "id": "70-YMQg9grVA",
        "outputId": "6ba79090-86c6-496d-dca4-379ab53fb9fd"
      },
      "source": [
        "accuracy = diabetesCheck.score(testData, testLabel)\n",
        "print(\"accuracy = \", accuracy * 100, \"%\")"
      ],
      "execution_count": null,
      "outputs": [
        {
          "output_type": "stream",
          "text": [
            "accuracy =  78.0 %\n"
          ],
          "name": "stdout"
        }
      ]
    },
    {
      "cell_type": "code",
      "metadata": {
        "colab": {
          "base_uri": "https://localhost:8080/"
        },
        "id": "qAZZypaNjHvN",
        "outputId": "2130e5b3-a9e3-4e65-fc23-5af0051df459"
      },
      "source": [
        "joblib.dump([diabetesCheck, means, stds], 'diabeteseModel.pkl')"
      ],
      "execution_count": null,
      "outputs": [
        {
          "output_type": "execute_result",
          "data": {
            "text/plain": [
              "['diabeteseModel.pkl']"
            ]
          },
          "metadata": {
            "tags": []
          },
          "execution_count": 24
        }
      ]
    },
    {
      "cell_type": "code",
      "metadata": {
        "colab": {
          "base_uri": "https://localhost:8080/"
        },
        "id": "GvHA6XcIjK_x",
        "outputId": "d23a9a11-4edb-44fb-cf9c-48b0a57f49ed"
      },
      "source": [
        "diabetesLoadedModel, means, stds = joblib.load('diabeteseModel.pkl')\n",
        "accuracyModel = diabetesLoadedModel.score(testData, testLabel)\n",
        "print(\"accuracy = \",accuracyModel * 100,\"%\")"
      ],
      "execution_count": null,
      "outputs": [
        {
          "output_type": "stream",
          "text": [
            "accuracy =  78.0 %\n"
          ],
          "name": "stdout"
        }
      ]
    },
    {
      "cell_type": "code",
      "metadata": {
        "colab": {
          "base_uri": "https://localhost:8080/"
        },
        "id": "-1c5BxSejS36",
        "outputId": "b8f6668a-a89f-4455-f2cc-28287ca3eacf"
      },
      "source": [
        "print(CrossCheck.head())"
      ],
      "execution_count": null,
      "outputs": [
        {
          "output_type": "stream",
          "text": [
            "     Number of times pregnant  ...  Class variable (0 or 1)\n",
            "750                         4  ...                        1\n",
            "751                         1  ...                        0\n",
            "752                         3  ...                        0\n",
            "753                         0  ...                        1\n",
            "754                         8  ...                        1\n",
            "\n",
            "[5 rows x 9 columns]\n"
          ],
          "name": "stdout"
        }
      ]
    },
    {
      "cell_type": "code",
      "metadata": {
        "colab": {
          "base_uri": "https://localhost:8080/"
        },
        "id": "xOxc6x4Kjb4d",
        "outputId": "6e0fe0de-a0c7-4eee-aa1d-3350d531cffa"
      },
      "source": [
        "sampleData = CrossCheck[:5]\n",
        "# prepare sample\n",
        "sampleDataFeatures = np.asarray(sampleData.drop('Class variable (0 or 1)',1))\n",
        "sampleDataFeatures = (sampleDataFeatures - means)/stds\n",
        "# predict\n",
        "predictionProbability = diabetesLoadedModel.predict_proba(sampleDataFeatures)\n",
        "prediction = diabetesLoadedModel.predict(sampleDataFeatures)\n",
        "print('Probability:', predictionProbability)\n",
        "print('prediction:', prediction)"
      ],
      "execution_count": null,
      "outputs": [
        {
          "output_type": "stream",
          "text": [
            "Probability: [[0.44077634 0.55922366]\n",
            " [0.7224006  0.2775994 ]\n",
            " [0.89838515 0.10161485]\n",
            " [0.32963847 0.67036153]\n",
            " [0.30136123 0.69863877]]\n",
            "prediction: [1 0 0 1 1]\n"
          ],
          "name": "stdout"
        }
      ]
    },
    {
      "cell_type": "code",
      "metadata": {
        "colab": {
          "base_uri": "https://localhost:8080/"
        },
        "id": "7ZagVKrgW2KP",
        "outputId": "b6375fa7-020a-45c1-e8be-7da39dccbe62"
      },
      "source": [
        "pip install kmodes"
      ],
      "execution_count": null,
      "outputs": [
        {
          "output_type": "stream",
          "text": [
            "Requirement already satisfied: kmodes in /usr/local/lib/python3.7/dist-packages (0.11.0)\n",
            "Requirement already satisfied: scipy>=0.13.3 in /usr/local/lib/python3.7/dist-packages (from kmodes) (1.4.1)\n",
            "Requirement already satisfied: numpy>=1.10.4 in /usr/local/lib/python3.7/dist-packages (from kmodes) (1.19.5)\n",
            "Requirement already satisfied: scikit-learn>=0.22.0 in /usr/local/lib/python3.7/dist-packages (from kmodes) (0.22.2.post1)\n",
            "Requirement already satisfied: joblib>=0.11 in /usr/local/lib/python3.7/dist-packages (from kmodes) (1.0.1)\n"
          ],
          "name": "stdout"
        }
      ]
    },
    {
      "cell_type": "code",
      "metadata": {
        "id": "7KUznUC9W_qH"
      },
      "source": [
        "import numpy as np\n",
        "import pandas as pd\n",
        "from kmodes.kprototypes import KPrototypes"
      ],
      "execution_count": null,
      "outputs": []
    },
    {
      "cell_type": "code",
      "metadata": {
        "colab": {
          "base_uri": "https://localhost:8080/",
          "height": 323
        },
        "id": "z1yHQJRzXKYJ",
        "outputId": "71c42985-aeb2-41a1-8400-8643545bef13"
      },
      "source": [
        "df = pd.read_csv('/content/drive/MyDrive/hotel.csv',sep=',',index_col=None)\n",
        "print(df.shape)\n",
        "df.head()"
      ],
      "execution_count": null,
      "outputs": [
        {
          "output_type": "stream",
          "text": [
            "(102, 5)\n"
          ],
          "name": "stdout"
        },
        {
          "output_type": "execute_result",
          "data": {
            "text/html": [
              "<div>\n",
              "<style scoped>\n",
              "    .dataframe tbody tr th:only-of-type {\n",
              "        vertical-align: middle;\n",
              "    }\n",
              "\n",
              "    .dataframe tbody tr th {\n",
              "        vertical-align: top;\n",
              "    }\n",
              "\n",
              "    .dataframe thead th {\n",
              "        text-align: right;\n",
              "    }\n",
              "</style>\n",
              "<table border=\"1\" class=\"dataframe\">\n",
              "  <thead>\n",
              "    <tr style=\"text-align: right;\">\n",
              "      <th></th>\n",
              "      <th>address</th>\n",
              "      <th>lat</th>\n",
              "      <th>lon</th>\n",
              "      <th>title</th>\n",
              "      <th>district</th>\n",
              "    </tr>\n",
              "  </thead>\n",
              "  <tbody>\n",
              "    <tr>\n",
              "      <th>0</th>\n",
              "      <td>No.30 Youya Road, Beitou District, Taipei 1124...</td>\n",
              "      <td>25.137793</td>\n",
              "      <td>121.51495</td>\n",
              "      <td>Grand View Resort Beitou</td>\n",
              "      <td>Beitou</td>\n",
              "    </tr>\n",
              "    <tr>\n",
              "      <th>1</th>\n",
              "      <td>No.28 Section 1, Minsheng East Road, Zhongshan...</td>\n",
              "      <td>25.057854</td>\n",
              "      <td>121.52409</td>\n",
              "      <td>YoMi Hotel</td>\n",
              "      <td>Zhongshan</td>\n",
              "    </tr>\n",
              "    <tr>\n",
              "      <th>2</th>\n",
              "      <td>No.3 Zhongshan Road, Beitou District, Taipei 1...</td>\n",
              "      <td>25.137163</td>\n",
              "      <td>121.50544</td>\n",
              "      <td>Beitou Hot Spring Resort (Tian Yue Quan)</td>\n",
              "      <td>Beitou</td>\n",
              "    </tr>\n",
              "    <tr>\n",
              "      <th>3</th>\n",
              "      <td>No.18 Songgao Road, Xinyi District, Taipei 110...</td>\n",
              "      <td>25.039248</td>\n",
              "      <td>121.56741</td>\n",
              "      <td>Humble House Taipei</td>\n",
              "      <td>Xinyi</td>\n",
              "    </tr>\n",
              "    <tr>\n",
              "      <th>4</th>\n",
              "      <td>4F., No.11, Sec. 2, Nanjing E. Road, Taipei 10...</td>\n",
              "      <td>25.052057</td>\n",
              "      <td>121.52831</td>\n",
              "      <td>Taipei Morning Hotel</td>\n",
              "      <td>Zhongshan</td>\n",
              "    </tr>\n",
              "  </tbody>\n",
              "</table>\n",
              "</div>"
            ],
            "text/plain": [
              "                                             address  ...   district\n",
              "0  No.30 Youya Road, Beitou District, Taipei 1124...  ...     Beitou\n",
              "1  No.28 Section 1, Minsheng East Road, Zhongshan...  ...  Zhongshan\n",
              "2  No.3 Zhongshan Road, Beitou District, Taipei 1...  ...     Beitou\n",
              "3  No.18 Songgao Road, Xinyi District, Taipei 110...  ...      Xinyi\n",
              "4  4F., No.11, Sec. 2, Nanjing E. Road, Taipei 10...  ...  Zhongshan\n",
              "\n",
              "[5 rows x 5 columns]"
            ]
          },
          "metadata": {
            "tags": []
          },
          "execution_count": 12
        }
      ]
    },
    {
      "cell_type": "code",
      "metadata": {
        "id": "GzVLET5OXX1P"
      },
      "source": [
        "categorical_features_idx = [0, 3, 4]"
      ],
      "execution_count": null,
      "outputs": []
    },
    {
      "cell_type": "code",
      "metadata": {
        "id": "9cKuet4UYxsd"
      },
      "source": [
        "mark_array=df.values"
      ],
      "execution_count": null,
      "outputs": []
    },
    {
      "cell_type": "code",
      "metadata": {
        "colab": {
          "base_uri": "https://localhost:8080/"
        },
        "id": "u5vry9C8Y08_",
        "outputId": "a2dedaf7-5ab0-4c23-8989-c0eaf4b8c91d"
      },
      "source": [
        "kproto = KPrototypes(n_clusters=3, verbose=2, max_iter=20).fit(mark_array, categorical=categorical_features_idx)"
      ],
      "execution_count": null,
      "outputs": [
        {
          "output_type": "stream",
          "text": [
            "Init: initializing centroids\n",
            "Init: initializing clusters\n",
            "Starting iterations...\n",
            "Run: 1, iteration: 1/20, moves: 48, ncost: 4726.682449047399\n",
            "Run: 1, iteration: 2/20, moves: 2, ncost: 4726.681384786668\n",
            "Run: 1, iteration: 3/20, moves: 0, ncost: 4726.681384786668\n",
            "Init: initializing centroids\n",
            "Init: initializing clusters\n",
            "Starting iterations...\n",
            "Run: 2, iteration: 1/20, moves: 12, ncost: 4774.91459676275\n",
            "Run: 2, iteration: 2/20, moves: 8, ncost: 4726.681384786668\n",
            "Run: 2, iteration: 3/20, moves: 0, ncost: 4726.681384786668\n",
            "Init: initializing centroids\n",
            "Init: initializing clusters\n",
            "Starting iterations...\n",
            "Run: 3, iteration: 1/20, moves: 13, ncost: 4774.920168398112\n",
            "Run: 3, iteration: 2/20, moves: 0, ncost: 4774.920168398112\n",
            "Init: initializing centroids\n",
            "Init: initializing clusters\n",
            "Starting iterations...\n",
            "Run: 4, iteration: 1/20, moves: 72, ncost: 4799.039468955187\n",
            "Run: 4, iteration: 2/20, moves: 9, ncost: 4774.913506195732\n",
            "Run: 4, iteration: 3/20, moves: 0, ncost: 4774.913506195732\n",
            "Init: initializing centroids\n",
            "Init: initializing clusters\n",
            "Starting iterations...\n",
            "Run: 5, iteration: 1/20, moves: 64, ncost: 4774.9302330117525\n",
            "Run: 5, iteration: 2/20, moves: 13, ncost: 4726.681384786667\n",
            "Run: 5, iteration: 3/20, moves: 0, ncost: 4726.681384786667\n",
            "Init: initializing centroids\n",
            "Init: initializing clusters\n",
            "Starting iterations...\n",
            "Run: 6, iteration: 1/20, moves: 15, ncost: 5040.195438476113\n",
            "Run: 6, iteration: 2/20, moves: 18, ncost: 5040.19154837031\n",
            "Run: 6, iteration: 3/20, moves: 21, ncost: 4726.683274026634\n",
            "Run: 6, iteration: 4/20, moves: 9, ncost: 4726.681384786668\n",
            "Run: 6, iteration: 5/20, moves: 0, ncost: 4726.681384786668\n",
            "Init: initializing centroids\n",
            "Init: initializing clusters\n",
            "Starting iterations...\n",
            "Run: 7, iteration: 1/20, moves: 30, ncost: 5040.188270728016\n",
            "Run: 7, iteration: 2/20, moves: 18, ncost: 4774.9150411614655\n",
            "Run: 7, iteration: 3/20, moves: 9, ncost: 4774.913506195732\n",
            "Run: 7, iteration: 4/20, moves: 0, ncost: 4774.913506195732\n",
            "Init: initializing centroids\n",
            "Init: initializing clusters\n",
            "Starting iterations...\n",
            "Run: 8, iteration: 1/20, moves: 25, ncost: 4774.913506195732\n",
            "Run: 8, iteration: 2/20, moves: 0, ncost: 4774.913506195732\n",
            "Init: initializing centroids\n",
            "Init: initializing clusters\n",
            "Starting iterations...\n",
            "Run: 9, iteration: 1/20, moves: 17, ncost: 5040.191782017609\n",
            "Run: 9, iteration: 2/20, moves: 23, ncost: 4726.683274026634\n",
            "Run: 9, iteration: 3/20, moves: 9, ncost: 4726.681384786668\n",
            "Run: 9, iteration: 4/20, moves: 0, ncost: 4726.681384786668\n",
            "Init: initializing centroids\n",
            "Init: initializing clusters\n",
            "Starting iterations...\n",
            "Run: 10, iteration: 1/20, moves: 18, ncost: 4774.913506195732\n",
            "Run: 10, iteration: 2/20, moves: 0, ncost: 4774.913506195732\n",
            "Best run was number 5\n"
          ],
          "name": "stdout"
        }
      ]
    },
    {
      "cell_type": "code",
      "metadata": {
        "colab": {
          "base_uri": "https://localhost:8080/"
        },
        "id": "RjOqu3ncZRts",
        "outputId": "f75664bb-3864-4c1e-dd13-fe03b12c7793"
      },
      "source": [
        "# Cluster Centroids\n",
        "print(kproto.cluster_centroids_)"
      ],
      "execution_count": null,
      "outputs": [
        {
          "output_type": "stream",
          "text": [
            "[['25.058236338028173' '121.53149952112676'\n",
            "  'No. 199, Lequn 2nd Road, Taipei, Taiwan, Taipei 10462, Taiwan '\n",
            "  'Taipei Marriott Hotel' 'Zhongshan']\n",
            " ['25.135587888888796' '121.508662277778'\n",
            "  'No.1 Qiyan Road, Beitou District, Taipei 11242, Taiwan '\n",
            "  'Atami Hotel Taipei Onsen' 'Beitou']\n",
            " ['25.036485846153848' '121.56455815384616'\n",
            "  'No.153 Songshan Road, Xinyi District, Taipei 110, Taiwan '\n",
            "  'EnRich House' 'Xinyi']]\n"
          ],
          "name": "stdout"
        }
      ]
    },
    {
      "cell_type": "code",
      "metadata": {
        "id": "odRVtZRKZUQz"
      },
      "source": [
        "# Prediction\n",
        "clusters = kproto.predict(mark_array, categorical=categorical_features_idx)"
      ],
      "execution_count": null,
      "outputs": []
    },
    {
      "cell_type": "code",
      "metadata": {
        "id": "HD1WAaADZdG2"
      },
      "source": [
        "df['cluster'] = list(clusters)"
      ],
      "execution_count": null,
      "outputs": []
    },
    {
      "cell_type": "code",
      "metadata": {
        "colab": {
          "base_uri": "https://localhost:8080/",
          "height": 685
        },
        "id": "dFUMvet4ZhFA",
        "outputId": "40f1e530-2f6f-4186-8f91-f3f739f013f9"
      },
      "source": [
        "df[df['cluster']== 0].head(10)"
      ],
      "execution_count": null,
      "outputs": [
        {
          "output_type": "execute_result",
          "data": {
            "text/html": [
              "<div>\n",
              "<style scoped>\n",
              "    .dataframe tbody tr th:only-of-type {\n",
              "        vertical-align: middle;\n",
              "    }\n",
              "\n",
              "    .dataframe tbody tr th {\n",
              "        vertical-align: top;\n",
              "    }\n",
              "\n",
              "    .dataframe thead th {\n",
              "        text-align: right;\n",
              "    }\n",
              "</style>\n",
              "<table border=\"1\" class=\"dataframe\">\n",
              "  <thead>\n",
              "    <tr style=\"text-align: right;\">\n",
              "      <th></th>\n",
              "      <th>address</th>\n",
              "      <th>lat</th>\n",
              "      <th>lon</th>\n",
              "      <th>title</th>\n",
              "      <th>district</th>\n",
              "      <th>cluster</th>\n",
              "    </tr>\n",
              "  </thead>\n",
              "  <tbody>\n",
              "    <tr>\n",
              "      <th>1</th>\n",
              "      <td>No.28 Section 1, Minsheng East Road, Zhongshan...</td>\n",
              "      <td>25.057854</td>\n",
              "      <td>121.524090</td>\n",
              "      <td>YoMi Hotel</td>\n",
              "      <td>Zhongshan</td>\n",
              "      <td>0</td>\n",
              "    </tr>\n",
              "    <tr>\n",
              "      <th>4</th>\n",
              "      <td>4F., No.11, Sec. 2, Nanjing E. Road, Taipei 10...</td>\n",
              "      <td>25.052057</td>\n",
              "      <td>121.528310</td>\n",
              "      <td>Taipei Morning Hotel</td>\n",
              "      <td>Zhongshan</td>\n",
              "      <td>0</td>\n",
              "    </tr>\n",
              "    <tr>\n",
              "      <th>5</th>\n",
              "      <td>No.131 Section 3, Nanjing East Road, Zhongshan...</td>\n",
              "      <td>25.052030</td>\n",
              "      <td>121.540970</td>\n",
              "      <td>FX Hotel - Taipei Nanjing East Road</td>\n",
              "      <td>Zhongshan</td>\n",
              "      <td>0</td>\n",
              "    </tr>\n",
              "    <tr>\n",
              "      <th>6</th>\n",
              "      <td>2F, No.42, Section 1, Minsheng East Road, Taip...</td>\n",
              "      <td>25.058155</td>\n",
              "      <td>121.524510</td>\n",
              "      <td>Via Hotel Loft</td>\n",
              "      <td>Zhongshan</td>\n",
              "      <td>0</td>\n",
              "    </tr>\n",
              "    <tr>\n",
              "      <th>8</th>\n",
              "      <td>No.63 Sung Chiang Road, Taipei 104, Taiwan</td>\n",
              "      <td>25.048920</td>\n",
              "      <td>121.533290</td>\n",
              "      <td>Evergreen Laurel Hotel</td>\n",
              "      <td>Zhongshan</td>\n",
              "      <td>0</td>\n",
              "    </tr>\n",
              "    <tr>\n",
              "      <th>9</th>\n",
              "      <td>No.600 Linshen North Road, Zhongshan District,...</td>\n",
              "      <td>25.065920</td>\n",
              "      <td>121.525690</td>\n",
              "      <td>Imperial Hotel Taipei</td>\n",
              "      <td>Zhongshan</td>\n",
              "      <td>0</td>\n",
              "    </tr>\n",
              "    <tr>\n",
              "      <th>11</th>\n",
              "      <td>No.186 Sung Chiang Road, Taipei 10467, Taiwan</td>\n",
              "      <td>25.056469</td>\n",
              "      <td>121.532776</td>\n",
              "      <td>Taipei Gala Hotel</td>\n",
              "      <td>Zhongshan</td>\n",
              "      <td>0</td>\n",
              "    </tr>\n",
              "    <tr>\n",
              "      <th>12</th>\n",
              "      <td>No.39 Changchun Road, Zhongshan District, Taip...</td>\n",
              "      <td>25.054940</td>\n",
              "      <td>121.525910</td>\n",
              "      <td>Tokyo International Hotel</td>\n",
              "      <td>Zhongshan</td>\n",
              "      <td>0</td>\n",
              "    </tr>\n",
              "    <tr>\n",
              "      <th>14</th>\n",
              "      <td>No.253 Songjiang Road, Taipei 104, Taiwan</td>\n",
              "      <td>25.059462</td>\n",
              "      <td>121.533380</td>\n",
              "      <td>Check Inn Taipei</td>\n",
              "      <td>Zhongshan</td>\n",
              "      <td>0</td>\n",
              "    </tr>\n",
              "    <tr>\n",
              "      <th>16</th>\n",
              "      <td>No.646 Linsen North Road, Taipei 104, Taiwan</td>\n",
              "      <td>25.068357</td>\n",
              "      <td>121.525530</td>\n",
              "      <td>Riviera Hotel</td>\n",
              "      <td>Zhongshan</td>\n",
              "      <td>0</td>\n",
              "    </tr>\n",
              "  </tbody>\n",
              "</table>\n",
              "</div>"
            ],
            "text/plain": [
              "                                              address  ...  cluster\n",
              "1   No.28 Section 1, Minsheng East Road, Zhongshan...  ...        0\n",
              "4   4F., No.11, Sec. 2, Nanjing E. Road, Taipei 10...  ...        0\n",
              "5   No.131 Section 3, Nanjing East Road, Zhongshan...  ...        0\n",
              "6   2F, No.42, Section 1, Minsheng East Road, Taip...  ...        0\n",
              "8         No.63 Sung Chiang Road, Taipei 104, Taiwan   ...        0\n",
              "9   No.600 Linshen North Road, Zhongshan District,...  ...        0\n",
              "11     No.186 Sung Chiang Road, Taipei 10467, Taiwan   ...        0\n",
              "12  No.39 Changchun Road, Zhongshan District, Taip...  ...        0\n",
              "14         No.253 Songjiang Road, Taipei 104, Taiwan   ...        0\n",
              "16      No.646 Linsen North Road, Taipei 104, Taiwan   ...        0\n",
              "\n",
              "[10 rows x 6 columns]"
            ]
          },
          "metadata": {
            "tags": []
          },
          "execution_count": 19
        }
      ]
    },
    {
      "cell_type": "code",
      "metadata": {
        "colab": {
          "base_uri": "https://localhost:8080/",
          "height": 685
        },
        "id": "pTNjdWIXZkS7",
        "outputId": "a43e7ce0-6572-4720-f20a-869bb214f9c5"
      },
      "source": [
        "df[df['cluster']==1].head(10)"
      ],
      "execution_count": null,
      "outputs": [
        {
          "output_type": "execute_result",
          "data": {
            "text/html": [
              "<div>\n",
              "<style scoped>\n",
              "    .dataframe tbody tr th:only-of-type {\n",
              "        vertical-align: middle;\n",
              "    }\n",
              "\n",
              "    .dataframe tbody tr th {\n",
              "        vertical-align: top;\n",
              "    }\n",
              "\n",
              "    .dataframe thead th {\n",
              "        text-align: right;\n",
              "    }\n",
              "</style>\n",
              "<table border=\"1\" class=\"dataframe\">\n",
              "  <thead>\n",
              "    <tr style=\"text-align: right;\">\n",
              "      <th></th>\n",
              "      <th>address</th>\n",
              "      <th>lat</th>\n",
              "      <th>lon</th>\n",
              "      <th>title</th>\n",
              "      <th>district</th>\n",
              "      <th>cluster</th>\n",
              "    </tr>\n",
              "  </thead>\n",
              "  <tbody>\n",
              "    <tr>\n",
              "      <th>0</th>\n",
              "      <td>No.30 Youya Road, Beitou District, Taipei 1124...</td>\n",
              "      <td>25.137793</td>\n",
              "      <td>121.514950</td>\n",
              "      <td>Grand View Resort Beitou</td>\n",
              "      <td>Beitou</td>\n",
              "      <td>1</td>\n",
              "    </tr>\n",
              "    <tr>\n",
              "      <th>2</th>\n",
              "      <td>No.3 Zhongshan Road, Beitou District, Taipei 1...</td>\n",
              "      <td>25.137163</td>\n",
              "      <td>121.505440</td>\n",
              "      <td>Beitou Hot Spring Resort (Tian Yue Quan)</td>\n",
              "      <td>Beitou</td>\n",
              "      <td>1</td>\n",
              "    </tr>\n",
              "    <tr>\n",
              "      <th>10</th>\n",
              "      <td>No.11 Youya Road, Beitou District, Taipei 112,...</td>\n",
              "      <td>25.137170</td>\n",
              "      <td>121.512200</td>\n",
              "      <td>Hotel DOUBLE ONE</td>\n",
              "      <td>Beitou</td>\n",
              "      <td>1</td>\n",
              "    </tr>\n",
              "    <tr>\n",
              "      <th>13</th>\n",
              "      <td>No.1 Qiyan Road, Beitou District, Taipei 11242...</td>\n",
              "      <td>25.134659</td>\n",
              "      <td>121.507195</td>\n",
              "      <td>The Gaia Hotel</td>\n",
              "      <td>Beitou</td>\n",
              "      <td>1</td>\n",
              "    </tr>\n",
              "    <tr>\n",
              "      <th>15</th>\n",
              "      <td>No.26 Zhongshan Road, Beitou District, Taipei ...</td>\n",
              "      <td>25.137820</td>\n",
              "      <td>121.510260</td>\n",
              "      <td>Royal Seasons Hotel (Hot Spring Beitou)</td>\n",
              "      <td>Beitou</td>\n",
              "      <td>1</td>\n",
              "    </tr>\n",
              "    <tr>\n",
              "      <th>21</th>\n",
              "      <td>No.224 Cuang Ming Road, Beitou District, Taipe...</td>\n",
              "      <td>25.136030</td>\n",
              "      <td>121.505480</td>\n",
              "      <td>Sweetme Hotspring Resort</td>\n",
              "      <td>Beitou</td>\n",
              "      <td>1</td>\n",
              "    </tr>\n",
              "    <tr>\n",
              "      <th>22</th>\n",
              "      <td>No.32 Zhongshan Road, Beitou District, Taipei ...</td>\n",
              "      <td>25.137833</td>\n",
              "      <td>121.510500</td>\n",
              "      <td>Villa 32</td>\n",
              "      <td>Beitou</td>\n",
              "      <td>1</td>\n",
              "    </tr>\n",
              "    <tr>\n",
              "      <th>27</th>\n",
              "      <td>No.18 You Ya Road, Beitou District, Taipei 112...</td>\n",
              "      <td>25.137540</td>\n",
              "      <td>121.513710</td>\n",
              "      <td>Spring City Resort</td>\n",
              "      <td>Beitou</td>\n",
              "      <td>1</td>\n",
              "    </tr>\n",
              "    <tr>\n",
              "      <th>29</th>\n",
              "      <td>No.240 Guangming Road, Beitou District, Taipei...</td>\n",
              "      <td>25.136260</td>\n",
              "      <td>121.507330</td>\n",
              "      <td>Golden Hot Spring Hotel</td>\n",
              "      <td>Beitou</td>\n",
              "      <td>1</td>\n",
              "    </tr>\n",
              "    <tr>\n",
              "      <th>34</th>\n",
              "      <td>No.1 Yinguang Lane, Wenquan Road, Peitou Distr...</td>\n",
              "      <td>25.136600</td>\n",
              "      <td>121.513030</td>\n",
              "      <td>Nine Plus Spa Hot Spring Hotel</td>\n",
              "      <td>Beitou</td>\n",
              "      <td>1</td>\n",
              "    </tr>\n",
              "  </tbody>\n",
              "</table>\n",
              "</div>"
            ],
            "text/plain": [
              "                                              address  ...  cluster\n",
              "0   No.30 Youya Road, Beitou District, Taipei 1124...  ...        1\n",
              "2   No.3 Zhongshan Road, Beitou District, Taipei 1...  ...        1\n",
              "10  No.11 Youya Road, Beitou District, Taipei 112,...  ...        1\n",
              "13  No.1 Qiyan Road, Beitou District, Taipei 11242...  ...        1\n",
              "15  No.26 Zhongshan Road, Beitou District, Taipei ...  ...        1\n",
              "21  No.224 Cuang Ming Road, Beitou District, Taipe...  ...        1\n",
              "22  No.32 Zhongshan Road, Beitou District, Taipei ...  ...        1\n",
              "27  No.18 You Ya Road, Beitou District, Taipei 112...  ...        1\n",
              "29  No.240 Guangming Road, Beitou District, Taipei...  ...        1\n",
              "34  No.1 Yinguang Lane, Wenquan Road, Peitou Distr...  ...        1\n",
              "\n",
              "[10 rows x 6 columns]"
            ]
          },
          "metadata": {
            "tags": []
          },
          "execution_count": 20
        }
      ]
    },
    {
      "cell_type": "code",
      "metadata": {
        "colab": {
          "base_uri": "https://localhost:8080/",
          "height": 581
        },
        "id": "6PWz2psVZoet",
        "outputId": "40a12908-7aa0-4cf3-e1d4-dfae18b13d3d"
      },
      "source": [
        "df[df['cluster']==2].head(10)"
      ],
      "execution_count": null,
      "outputs": [
        {
          "output_type": "execute_result",
          "data": {
            "text/html": [
              "<div>\n",
              "<style scoped>\n",
              "    .dataframe tbody tr th:only-of-type {\n",
              "        vertical-align: middle;\n",
              "    }\n",
              "\n",
              "    .dataframe tbody tr th {\n",
              "        vertical-align: top;\n",
              "    }\n",
              "\n",
              "    .dataframe thead th {\n",
              "        text-align: right;\n",
              "    }\n",
              "</style>\n",
              "<table border=\"1\" class=\"dataframe\">\n",
              "  <thead>\n",
              "    <tr style=\"text-align: right;\">\n",
              "      <th></th>\n",
              "      <th>address</th>\n",
              "      <th>lat</th>\n",
              "      <th>lon</th>\n",
              "      <th>title</th>\n",
              "      <th>district</th>\n",
              "      <th>cluster</th>\n",
              "    </tr>\n",
              "  </thead>\n",
              "  <tbody>\n",
              "    <tr>\n",
              "      <th>3</th>\n",
              "      <td>No.18 Songgao Road, Xinyi District, Taipei 110...</td>\n",
              "      <td>25.039248</td>\n",
              "      <td>121.567410</td>\n",
              "      <td>Humble House Taipei</td>\n",
              "      <td>Xinyi</td>\n",
              "      <td>2</td>\n",
              "    </tr>\n",
              "    <tr>\n",
              "      <th>7</th>\n",
              "      <td>No.38 Songren Road, Xinyi District, Taipei 110...</td>\n",
              "      <td>25.037867</td>\n",
              "      <td>121.567960</td>\n",
              "      <td>Le Meridien Taipei</td>\n",
              "      <td>Xinyi</td>\n",
              "      <td>2</td>\n",
              "    </tr>\n",
              "    <tr>\n",
              "      <th>18</th>\n",
              "      <td>No.297 Section 5, Zhongxiao East Road, Xinyi D...</td>\n",
              "      <td>25.040890</td>\n",
              "      <td>121.572950</td>\n",
              "      <td>THE Tango Taipei XinYi</td>\n",
              "      <td>Xinyi</td>\n",
              "      <td>2</td>\n",
              "    </tr>\n",
              "    <tr>\n",
              "      <th>25</th>\n",
              "      <td>B1, No.16, Sec. 5, Xinyi Road, Xinyi District,...</td>\n",
              "      <td>25.032806</td>\n",
              "      <td>121.563300</td>\n",
              "      <td>Sparkle Hotel</td>\n",
              "      <td>Xinyi</td>\n",
              "      <td>2</td>\n",
              "    </tr>\n",
              "    <tr>\n",
              "      <th>54</th>\n",
              "      <td>No.98 Yanchang Road, Xinyi District, Taipei 11...</td>\n",
              "      <td>25.044977</td>\n",
              "      <td>121.561500</td>\n",
              "      <td>Eslite Hotel</td>\n",
              "      <td>Xinyi</td>\n",
              "      <td>2</td>\n",
              "    </tr>\n",
              "    <tr>\n",
              "      <th>69</th>\n",
              "      <td>3F, No.468, Section 4, Xinyi Road, Xinyi Distr...</td>\n",
              "      <td>25.032980</td>\n",
              "      <td>121.559130</td>\n",
              "      <td>AT Boutique Hotel</td>\n",
              "      <td>Xinyi</td>\n",
              "      <td>2</td>\n",
              "    </tr>\n",
              "    <tr>\n",
              "      <th>70</th>\n",
              "      <td>No.30-148-20 Yongji Road, Xinyi District, Taip...</td>\n",
              "      <td>25.042774</td>\n",
              "      <td>121.567696</td>\n",
              "      <td>EnRich House</td>\n",
              "      <td>Xinyi</td>\n",
              "      <td>2</td>\n",
              "    </tr>\n",
              "    <tr>\n",
              "      <th>73</th>\n",
              "      <td>No.385 Hsin-Yi Road, Section 4, Sinyi Road Sin...</td>\n",
              "      <td>25.033140</td>\n",
              "      <td>121.558130</td>\n",
              "      <td>Royal Best Suites</td>\n",
              "      <td>Xinyi</td>\n",
              "      <td>2</td>\n",
              "    </tr>\n",
              "    <tr>\n",
              "      <th>78</th>\n",
              "      <td>No.15-2, Sec. 2, Keelung Rd, Taipei 110, Taiwan</td>\n",
              "      <td>25.029180</td>\n",
              "      <td>121.557250</td>\n",
              "      <td>HolyPro Boutique Hotel</td>\n",
              "      <td>Xinyi</td>\n",
              "      <td>2</td>\n",
              "    </tr>\n",
              "    <tr>\n",
              "      <th>82</th>\n",
              "      <td>No.153 Songshan Road, Xinyi District, Taipei 1...</td>\n",
              "      <td>25.046530</td>\n",
              "      <td>121.577890</td>\n",
              "      <td>Wonstar Hotel (Songshan)</td>\n",
              "      <td>Xinyi</td>\n",
              "      <td>2</td>\n",
              "    </tr>\n",
              "  </tbody>\n",
              "</table>\n",
              "</div>"
            ],
            "text/plain": [
              "                                              address  ...  cluster\n",
              "3   No.18 Songgao Road, Xinyi District, Taipei 110...  ...        2\n",
              "7   No.38 Songren Road, Xinyi District, Taipei 110...  ...        2\n",
              "18  No.297 Section 5, Zhongxiao East Road, Xinyi D...  ...        2\n",
              "25  B1, No.16, Sec. 5, Xinyi Road, Xinyi District,...  ...        2\n",
              "54  No.98 Yanchang Road, Xinyi District, Taipei 11...  ...        2\n",
              "69  3F, No.468, Section 4, Xinyi Road, Xinyi Distr...  ...        2\n",
              "70  No.30-148-20 Yongji Road, Xinyi District, Taip...  ...        2\n",
              "73  No.385 Hsin-Yi Road, Section 4, Sinyi Road Sin...  ...        2\n",
              "78   No.15-2, Sec. 2, Keelung Rd, Taipei 110, Taiwan   ...        2\n",
              "82  No.153 Songshan Road, Xinyi District, Taipei 1...  ...        2\n",
              "\n",
              "[10 rows x 6 columns]"
            ]
          },
          "metadata": {
            "tags": []
          },
          "execution_count": 21
        }
      ]
    }
  ]
}